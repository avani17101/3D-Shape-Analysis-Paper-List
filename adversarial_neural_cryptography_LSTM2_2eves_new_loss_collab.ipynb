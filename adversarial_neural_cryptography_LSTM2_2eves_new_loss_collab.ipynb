{
  "nbformat": 4,
  "nbformat_minor": 0,
  "metadata": {
    "kernelspec": {
      "display_name": "Python 3",
      "language": "python",
      "name": "python3"
    },
    "language_info": {
      "codemirror_mode": {
        "name": "ipython",
        "version": 3
      },
      "file_extension": ".py",
      "mimetype": "text/x-python",
      "name": "python",
      "nbconvert_exporter": "python",
      "pygments_lexer": "ipython3",
      "version": "3.7.3"
    },
    "toc": {
      "base_numbering": 1,
      "nav_menu": {},
      "number_sections": true,
      "sideBar": true,
      "skip_h1_title": false,
      "title_cell": "Table of Contents",
      "title_sidebar": "Contents",
      "toc_cell": false,
      "toc_position": {
        "height": "calc(100% - 180px)",
        "left": "10px",
        "top": "150px",
        "width": "243.068px"
      },
      "toc_section_display": true,
      "toc_window_display": true
    },
    "colab": {
      "name": "adversarial_neural_cryptography_LSTM2_2eves_new_loss_collab.ipynb",
      "provenance": [],
      "include_colab_link": true
    },
    "accelerator": "GPU"
  },
  "cells": [
    {
      "cell_type": "markdown",
      "metadata": {
        "id": "view-in-github",
        "colab_type": "text"
      },
      "source": [
        "<a href=\"https://colab.research.google.com/github/avani17101/3D-Shape-Analysis-Paper-List/blob/master/adversarial_neural_cryptography_LSTM2_2eves_new_loss_collab.ipynb\" target=\"_parent\"><img src=\"https://colab.research.google.com/assets/colab-badge.svg\" alt=\"Open In Colab\"/></a>"
      ]
    },
    {
      "cell_type": "markdown",
      "metadata": {
        "id": "j6pvLxswPQkZ",
        "colab_type": "text"
      },
      "source": [
        "# Setup"
      ]
    },
    {
      "cell_type": "code",
      "metadata": {
        "id": "MXd7SYc8PSzl",
        "colab_type": "code",
        "colab": {
          "base_uri": "https://localhost:8080/",
          "height": 857
        },
        "outputId": "0e5060c4-bb9f-48c5-c541-5ee61fc55ba5"
      },
      "source": [
        "!apt-get install libgmp-dev libmpfr-dev libmpc-dev \n",
        "!pip3 install gmpy2\n"
      ],
      "execution_count": 1,
      "outputs": [
        {
          "output_type": "stream",
          "text": [
            "Reading package lists... Done\n",
            "Building dependency tree       \n",
            "Reading state information... Done\n",
            "The following package was automatically installed and is no longer required:\n",
            "  libnvidia-common-440\n",
            "Use 'apt autoremove' to remove it.\n",
            "The following additional packages will be installed:\n",
            "  libgmpxx4ldbl\n",
            "Suggested packages:\n",
            "  gmp-doc libgmp10-doc libmpfr-doc\n",
            "The following NEW packages will be installed:\n",
            "  libgmp-dev libgmpxx4ldbl libmpc-dev libmpfr-dev\n",
            "0 upgraded, 4 newly installed, 0 to remove and 39 not upgraded.\n",
            "Need to get 625 kB of archives.\n",
            "After this operation, 3,178 kB of additional disk space will be used.\n",
            "Get:1 http://archive.ubuntu.com/ubuntu bionic/main amd64 libgmpxx4ldbl amd64 2:6.1.2+dfsg-2 [8,964 B]\n",
            "Get:2 http://archive.ubuntu.com/ubuntu bionic/main amd64 libgmp-dev amd64 2:6.1.2+dfsg-2 [316 kB]\n",
            "Get:3 http://archive.ubuntu.com/ubuntu bionic/main amd64 libmpfr-dev amd64 4.0.1-1 [249 kB]\n",
            "Get:4 http://archive.ubuntu.com/ubuntu bionic/main amd64 libmpc-dev amd64 1.1.0-1 [50.5 kB]\n",
            "Fetched 625 kB in 1s (780 kB/s)\n",
            "Selecting previously unselected package libgmpxx4ldbl:amd64.\n",
            "(Reading database ... 144579 files and directories currently installed.)\n",
            "Preparing to unpack .../libgmpxx4ldbl_2%3a6.1.2+dfsg-2_amd64.deb ...\n",
            "Unpacking libgmpxx4ldbl:amd64 (2:6.1.2+dfsg-2) ...\n",
            "Selecting previously unselected package libgmp-dev:amd64.\n",
            "Preparing to unpack .../libgmp-dev_2%3a6.1.2+dfsg-2_amd64.deb ...\n",
            "Unpacking libgmp-dev:amd64 (2:6.1.2+dfsg-2) ...\n",
            "Selecting previously unselected package libmpfr-dev:amd64.\n",
            "Preparing to unpack .../libmpfr-dev_4.0.1-1_amd64.deb ...\n",
            "Unpacking libmpfr-dev:amd64 (4.0.1-1) ...\n",
            "Selecting previously unselected package libmpc-dev:amd64.\n",
            "Preparing to unpack .../libmpc-dev_1.1.0-1_amd64.deb ...\n",
            "Unpacking libmpc-dev:amd64 (1.1.0-1) ...\n",
            "Setting up libgmpxx4ldbl:amd64 (2:6.1.2+dfsg-2) ...\n",
            "Setting up libgmp-dev:amd64 (2:6.1.2+dfsg-2) ...\n",
            "Setting up libmpfr-dev:amd64 (4.0.1-1) ...\n",
            "Setting up libmpc-dev:amd64 (1.1.0-1) ...\n",
            "Processing triggers for libc-bin (2.27-3ubuntu1) ...\n",
            "/sbin/ldconfig.real: /usr/local/lib/python3.6/dist-packages/ideep4py/lib/libmkldnn.so.0 is not a symbolic link\n",
            "\n",
            "Collecting gmpy2\n",
            "\u001b[?25l  Downloading https://files.pythonhosted.org/packages/90/f4/9a2e384b325b69bc5827b9a6510a8fb4a51698c915c06a3f25a86458892a/gmpy2-2.0.8.zip (280kB)\n",
            "\u001b[K     |████████████████████████████████| 286kB 3.1MB/s \n",
            "\u001b[?25hBuilding wheels for collected packages: gmpy2\n",
            "  Building wheel for gmpy2 (setup.py) ... \u001b[?25l\u001b[?25hdone\n",
            "  Created wheel for gmpy2: filename=gmpy2-2.0.8-cp36-cp36m-linux_x86_64.whl size=456737 sha256=a893dc8721de4aa20debd2864c6ee00d7f1c0038022e91cc17f3125058218486\n",
            "  Stored in directory: /root/.cache/pip/wheels/33/5a/45/b4f58933bc61064f49669220932d1d5bcc0b2a1f762f25ac0e\n",
            "Successfully built gmpy2\n",
            "Installing collected packages: gmpy2\n",
            "Successfully installed gmpy2-2.0.8\n"
          ],
          "name": "stdout"
        }
      ]
    },
    {
      "cell_type": "code",
      "metadata": {
        "id": "aPZyLSShRGP1",
        "colab_type": "code",
        "colab": {
          "base_uri": "https://localhost:8080/",
          "height": 118
        },
        "outputId": "a5b52b69-930c-4e93-8bd6-406ecfcf0ce6"
      },
      "source": [
        "!pip3 install keras --upgrade"
      ],
      "execution_count": 2,
      "outputs": [
        {
          "output_type": "stream",
          "text": [
            "Requirement already up-to-date: keras in /usr/local/lib/python3.6/dist-packages (2.4.3)\n",
            "Requirement already satisfied, skipping upgrade: numpy>=1.9.1 in /usr/local/lib/python3.6/dist-packages (from keras) (1.18.5)\n",
            "Requirement already satisfied, skipping upgrade: h5py in /usr/local/lib/python3.6/dist-packages (from keras) (2.10.0)\n",
            "Requirement already satisfied, skipping upgrade: scipy>=0.14 in /usr/local/lib/python3.6/dist-packages (from keras) (1.4.1)\n",
            "Requirement already satisfied, skipping upgrade: pyyaml in /usr/local/lib/python3.6/dist-packages (from keras) (3.13)\n",
            "Requirement already satisfied, skipping upgrade: six in /usr/local/lib/python3.6/dist-packages (from h5py->keras) (1.15.0)\n"
          ],
          "name": "stdout"
        }
      ]
    },
    {
      "cell_type": "code",
      "metadata": {
        "id": "mzgGUXsXPlqp",
        "colab_type": "code",
        "colab": {
          "base_uri": "https://localhost:8080/",
          "height": 50
        },
        "outputId": "0bf6790e-79bc-4dbf-942d-0e3fc2202e67"
      },
      "source": [
        "!pip search gmpy2"
      ],
      "execution_count": 3,
      "outputs": [
        {
          "output_type": "stream",
          "text": [
            "gmpy2 (2.0.8)  - GMP/MPIR, MPFR, and MPC interface to Python 2.6+ and 3.x\n",
            "  INSTALLED: 2.0.8 (latest)\n"
          ],
          "name": "stdout"
        }
      ]
    },
    {
      "cell_type": "code",
      "metadata": {
        "ExecuteTime": {
          "end_time": "2018-10-24T17:54:08.549521Z",
          "start_time": "2018-10-24T17:54:08.541543Z"
        },
        "id": "hYzeJXvIPQkc",
        "colab_type": "code",
        "colab": {}
      },
      "source": [
        "%matplotlib inline\n",
        "\n",
        "import ctypes\n",
        "import gmpy2\n",
        "from gmpy2 import mpz\n",
        "import matplotlib\n",
        "import matplotlib.pyplot as plt\n",
        "import numpy as np\n",
        "import pandas as pd\n",
        "import sys\n",
        "\n",
        "from keras import backend as K\n",
        "from keras.models import Model\n",
        "from keras.engine.input_layer import Input\n",
        "from keras.layers.core import Activation, Dense\n",
        "from keras.layers import Flatten, Reshape,LSTM, Dropout, GRU\n",
        "from keras.layers.convolutional import Conv1D\n",
        "from keras.layers.merge import concatenate\n",
        "from keras.optimizers import Adam, RMSprop\n",
        "from keras.models import load_model"
      ],
      "execution_count": 4,
      "outputs": []
    },
    {
      "cell_type": "code",
      "metadata": {
        "id": "l-BegPIbPQkk",
        "colab_type": "code",
        "colab": {
          "base_uri": "https://localhost:8080/",
          "height": 538
        },
        "outputId": "ee9982f8-41df-4724-a4b8-181edcb417c9"
      },
      "source": [
        "from tensorflow.python.client import device_lib\n",
        "print(device_lib.list_local_devices())"
      ],
      "execution_count": 5,
      "outputs": [
        {
          "output_type": "stream",
          "text": [
            "[name: \"/device:CPU:0\"\n",
            "device_type: \"CPU\"\n",
            "memory_limit: 268435456\n",
            "locality {\n",
            "}\n",
            "incarnation: 10059125364208943741\n",
            ", name: \"/device:XLA_CPU:0\"\n",
            "device_type: \"XLA_CPU\"\n",
            "memory_limit: 17179869184\n",
            "locality {\n",
            "}\n",
            "incarnation: 9646453975742811065\n",
            "physical_device_desc: \"device: XLA_CPU device\"\n",
            ", name: \"/device:XLA_GPU:0\"\n",
            "device_type: \"XLA_GPU\"\n",
            "memory_limit: 17179869184\n",
            "locality {\n",
            "}\n",
            "incarnation: 13490757825188598725\n",
            "physical_device_desc: \"device: XLA_GPU device\"\n",
            ", name: \"/device:GPU:0\"\n",
            "device_type: \"GPU\"\n",
            "memory_limit: 11146783616\n",
            "locality {\n",
            "  bus_id: 1\n",
            "  links {\n",
            "  }\n",
            "}\n",
            "incarnation: 6066603011315697815\n",
            "physical_device_desc: \"device: 0, name: Tesla K80, pci bus id: 0000:00:04.0, compute capability: 3.7\"\n",
            "]\n"
          ],
          "name": "stdout"
        }
      ]
    },
    {
      "cell_type": "code",
      "metadata": {
        "id": "BMZjzvCAPQkr",
        "colab_type": "code",
        "colab": {}
      },
      "source": [
        "#from keras import backend as K\n",
        "#K.tensorflow_backend._get_available_gpus()"
      ],
      "execution_count": 6,
      "outputs": []
    },
    {
      "cell_type": "code",
      "metadata": {
        "ExecuteTime": {
          "end_time": "2018-10-24T16:05:13.222241Z",
          "start_time": "2018-10-24T16:05:13.217255Z"
        },
        "id": "yP6ToqvPPQk0",
        "colab_type": "code",
        "colab": {}
      },
      "source": [
        "def random_batch(X_train, y_train, batch_size):\n",
        "    index_set = np.random.randint(0, X_train.shape[0], batch_size)\n",
        "    X_batch = X_train[index_set]\n",
        "    y_batch = y_train[index_set]\n",
        "    return X_batch, y_batch"
      ],
      "execution_count": 7,
      "outputs": []
    },
    {
      "cell_type": "markdown",
      "metadata": {
        "id": "rVNMBeUGPQk7",
        "colab_type": "text"
      },
      "source": [
        "# Symmetric (secret-key) encryption"
      ]
    },
    {
      "cell_type": "markdown",
      "metadata": {
        "id": "NK1FZ0GKPQk8",
        "colab_type": "text"
      },
      "source": [
        "## Model `crypto1` (Google)\n",
        "\n",
        "This model was build according to the specifications from Google's paper *Learning to protect communications with adversarial neural cryptography*."
      ]
    },
    {
      "cell_type": "code",
      "metadata": {
        "ExecuteTime": {
          "end_time": "2018-10-24T16:55:24.834360Z",
          "start_time": "2018-10-24T16:55:24.830369Z"
        },
        "id": "YY4N6WTBPQk9",
        "colab_type": "code",
        "colab": {}
      },
      "source": [
        "model_name = 'crypto1'\n",
        "\n",
        "# Set up the crypto parameters: message, key, and ciphertext bit lengths\n",
        "m_bits = 16\n",
        "k_bits = 16\n",
        "c_bits = 16\n",
        "pad = 'same'\n",
        "\n",
        "# Compute the size of the message space\n",
        "m_train = 2**(m_bits) #+ k_bits)\n",
        "\n",
        "alice_file = 'models/crypto/' + model_name + '-alice'\n",
        "bob_file = 'models/crypto/' + model_name + '-bob'\n",
        "eve_file = 'models/crypto/' + model_name + '-eve'\n",
        "eve2_file = 'models/crypto/' + model_name + '-eve2'"
      ],
      "execution_count": 8,
      "outputs": []
    },
    {
      "cell_type": "markdown",
      "metadata": {
        "id": "Ir5NG7DFPQlF",
        "colab_type": "text"
      },
      "source": [
        "## LSTM"
      ]
    },
    {
      "cell_type": "markdown",
      "metadata": {
        "id": "AQgs4tsVPQlH",
        "colab_type": "text"
      },
      "source": [
        "### Network arch"
      ]
    },
    {
      "cell_type": "code",
      "metadata": {
        "id": "jr_zMkZGPQlI",
        "colab_type": "code",
        "colab": {
          "base_uri": "https://localhost:8080/",
          "height": 1000
        },
        "outputId": "7cff37aa-2104-4489-f167-fc3778b19cfd"
      },
      "source": [
        "K.clear_session()\n",
        "\n",
        "\n",
        "##### Alice network #####\n",
        "#\n",
        "ainput0 = Input(shape=(m_bits,)) #message\n",
        "ainput1 = Input(shape=(k_bits,)) #key\n",
        "ainput = concatenate([ainput0, ainput1], axis=1)\n",
        "\n",
        "adense1 = Dense(units=(m_bits + k_bits))(ainput)\n",
        "adense1a = Activation('tanh')(adense1)\n",
        "areshape = Reshape((m_bits + k_bits, 1,))(adense1a)\n",
        "\n",
        "x = LSTM(16,return_sequences=True)(areshape)\n",
        "x = LSTM(64,return_sequences=True)(x)\n",
        "x = LSTM(128)(x)\n",
        "x = Dense(1024,activation='relu')(x)\n",
        "x = Dropout(0.5)(x)\n",
        "aoutput = Dense(16,activation='relu')(x)\n",
        "alice = Model([ainput0, ainput1], aoutput, name='alice')\n",
        "alice.summary()\n",
        "\n",
        "\n",
        "##### Bob network #####\n",
        "#\n",
        "binput0 = Input(shape=(c_bits,)) #ciphertext\n",
        "binput1 = Input(shape=(k_bits,)) #key\n",
        "binput = concatenate([binput0, binput1], axis=1)\n",
        "\n",
        "bdense1 = Dense(units=(c_bits + k_bits))(binput)\n",
        "bdense1a = Activation('tanh')(bdense1)\n",
        "\n",
        "breshape = Reshape((c_bits + k_bits, 1,))(bdense1a)\n",
        "\n",
        "\n",
        "x = LSTM(16,return_sequences=True)(breshape)\n",
        "x = LSTM(64,return_sequences=True)(x)\n",
        "x = LSTM(128)(x)\n",
        "x = Dense(1024,activation='relu')(x)\n",
        "x = Dropout(0.5)(x)\n",
        "boutput = Dense(16,activation='relu')(x)\n",
        "\n",
        "bob = Model([binput0, binput1], boutput, name='bob')\n",
        "bob.summary()\n",
        "\n",
        "\n",
        "# Eve network\n",
        "#\n",
        "einput = Input(shape=(c_bits,p_bits)) #ciphertext only\n",
        "\n",
        "edense1 = Dense(units=(c_bits + k_bits))(einput)\n",
        "edense1a = Activation('tanh')(edense1)\n",
        "\n",
        "edense2 = Dense(units=(c_bits + k_bits))(edense1a)\n",
        "edense2a = Activation('tanh')(edense2)\n",
        "\n",
        "ereshape = Reshape((c_bits + k_bits, 1,))(edense2a)\n",
        "\n",
        "\n",
        "x = LSTM(16,return_sequences=True)(ereshape)\n",
        "x = LSTM(64,return_sequences=True)(x)\n",
        "x = LSTM(1024)(x)\n",
        "x = Dense(32,activation='relu')(x)\n",
        "x = Dropout(0.5)(x)\n",
        "eoutput = Dense(16,activation='relu')(x)\n",
        "eve = Model(einput, eoutput, name='eve')\n",
        "eve.summary()\n",
        "\n",
        "# Eve network 2\n",
        "einput1 = Input(shape=(k_bits,)) #key only\n",
        "\n",
        "edense11 = Dense(units=(c_bits + k_bits))(einput1)\n",
        "edense11a = Activation('tanh')(edense11)\n",
        "\n",
        "edense21 = Dense(units=(c_bits + k_bits))(edense11a)\n",
        "edense21a = Activation('tanh')(edense21)\n",
        "\n",
        "ereshape1 = Reshape((c_bits + k_bits, 1,))(edense21a)\n",
        "\n",
        "\n",
        "e11 = LSTM(16,return_sequences=True)(ereshape1)\n",
        "e21 = GRU(64,return_sequences=True)(e11)\n",
        "e31 = LSTM(128)(e21)\n",
        "e41 = Dense(32,activation='relu')(e31)\n",
        "e51 = Dropout(0.5)(e41)\n",
        "eoutput2 = Dense(16,activation='relu')(e51)\n",
        "\n",
        "eve = Model(einput, eoutput, name='eve')\n",
        "eve2 = Model(einput1, eoutput2, name='eve2')\n",
        "eve.summary()\n",
        "eve2.summary()\n"
      ],
      "execution_count": null,
      "outputs": [
        {
          "output_type": "stream",
          "text": [
            "Model: \"alice\"\n",
            "__________________________________________________________________________________________________\n",
            "Layer (type)                    Output Shape         Param #     Connected to                     \n",
            "==================================================================================================\n",
            "input_1 (InputLayer)            [(None, 16)]         0                                            \n",
            "__________________________________________________________________________________________________\n",
            "input_2 (InputLayer)            [(None, 16)]         0                                            \n",
            "__________________________________________________________________________________________________\n",
            "concatenate (Concatenate)       (None, 32)           0           input_1[0][0]                    \n",
            "                                                                 input_2[0][0]                    \n",
            "__________________________________________________________________________________________________\n",
            "dense (Dense)                   (None, 32)           1056        concatenate[0][0]                \n",
            "__________________________________________________________________________________________________\n",
            "activation (Activation)         (None, 32)           0           dense[0][0]                      \n",
            "__________________________________________________________________________________________________\n",
            "reshape (Reshape)               (None, 32, 1)        0           activation[0][0]                 \n",
            "__________________________________________________________________________________________________\n",
            "lstm (LSTM)                     (None, 32, 16)       1152        reshape[0][0]                    \n",
            "__________________________________________________________________________________________________\n",
            "lstm_1 (LSTM)                   (None, 32, 64)       20736       lstm[0][0]                       \n",
            "__________________________________________________________________________________________________\n",
            "lstm_2 (LSTM)                   (None, 128)          98816       lstm_1[0][0]                     \n",
            "__________________________________________________________________________________________________\n",
            "dense_1 (Dense)                 (None, 1024)         132096      lstm_2[0][0]                     \n",
            "__________________________________________________________________________________________________\n",
            "dropout (Dropout)               (None, 1024)         0           dense_1[0][0]                    \n",
            "__________________________________________________________________________________________________\n",
            "dense_2 (Dense)                 (None, 16)           16400       dropout[0][0]                    \n",
            "==================================================================================================\n",
            "Total params: 270,256\n",
            "Trainable params: 270,256\n",
            "Non-trainable params: 0\n",
            "__________________________________________________________________________________________________\n",
            "Model: \"bob\"\n",
            "__________________________________________________________________________________________________\n",
            "Layer (type)                    Output Shape         Param #     Connected to                     \n",
            "==================================================================================================\n",
            "input_3 (InputLayer)            [(None, 16)]         0                                            \n",
            "__________________________________________________________________________________________________\n",
            "input_4 (InputLayer)            [(None, 16)]         0                                            \n",
            "__________________________________________________________________________________________________\n",
            "concatenate_1 (Concatenate)     (None, 32)           0           input_3[0][0]                    \n",
            "                                                                 input_4[0][0]                    \n",
            "__________________________________________________________________________________________________\n",
            "dense_3 (Dense)                 (None, 32)           1056        concatenate_1[0][0]              \n",
            "__________________________________________________________________________________________________\n",
            "activation_1 (Activation)       (None, 32)           0           dense_3[0][0]                    \n",
            "__________________________________________________________________________________________________\n",
            "reshape_1 (Reshape)             (None, 32, 1)        0           activation_1[0][0]               \n",
            "__________________________________________________________________________________________________\n",
            "lstm_3 (LSTM)                   (None, 32, 16)       1152        reshape_1[0][0]                  \n",
            "__________________________________________________________________________________________________\n",
            "lstm_4 (LSTM)                   (None, 32, 64)       20736       lstm_3[0][0]                     \n",
            "__________________________________________________________________________________________________\n",
            "lstm_5 (LSTM)                   (None, 128)          98816       lstm_4[0][0]                     \n",
            "__________________________________________________________________________________________________\n",
            "dense_4 (Dense)                 (None, 1024)         132096      lstm_5[0][0]                     \n",
            "__________________________________________________________________________________________________\n",
            "dropout_1 (Dropout)             (None, 1024)         0           dense_4[0][0]                    \n",
            "__________________________________________________________________________________________________\n",
            "dense_5 (Dense)                 (None, 16)           16400       dropout_1[0][0]                  \n",
            "==================================================================================================\n",
            "Total params: 270,256\n",
            "Trainable params: 270,256\n",
            "Non-trainable params: 0\n",
            "__________________________________________________________________________________________________\n",
            "Model: \"eve\"\n",
            "_________________________________________________________________\n",
            "Layer (type)                 Output Shape              Param #   \n",
            "=================================================================\n",
            "input_5 (InputLayer)         [(None, 16)]              0         \n",
            "_________________________________________________________________\n",
            "dense_6 (Dense)              (None, 32)                544       \n",
            "_________________________________________________________________\n",
            "activation_2 (Activation)    (None, 32)                0         \n",
            "_________________________________________________________________\n",
            "dense_7 (Dense)              (None, 32)                1056      \n",
            "_________________________________________________________________\n",
            "activation_3 (Activation)    (None, 32)                0         \n",
            "_________________________________________________________________\n",
            "reshape_2 (Reshape)          (None, 32, 1)             0         \n",
            "_________________________________________________________________\n",
            "lstm_6 (LSTM)                (None, 32, 16)            1152      \n",
            "_________________________________________________________________\n",
            "lstm_7 (LSTM)                (None, 32, 64)            20736     \n",
            "_________________________________________________________________\n",
            "lstm_8 (LSTM)                (None, 1024)              4460544   \n",
            "_________________________________________________________________\n",
            "dense_8 (Dense)              (None, 32)                32800     \n",
            "_________________________________________________________________\n",
            "dropout_2 (Dropout)          (None, 32)                0         \n",
            "_________________________________________________________________\n",
            "dense_9 (Dense)              (None, 16)                528       \n",
            "=================================================================\n",
            "Total params: 4,517,360\n",
            "Trainable params: 4,517,360\n",
            "Non-trainable params: 0\n",
            "_________________________________________________________________\n",
            "Model: \"eve\"\n",
            "_________________________________________________________________\n",
            "Layer (type)                 Output Shape              Param #   \n",
            "=================================================================\n",
            "input_5 (InputLayer)         [(None, 16)]              0         \n",
            "_________________________________________________________________\n",
            "dense_6 (Dense)              (None, 32)                544       \n",
            "_________________________________________________________________\n",
            "activation_2 (Activation)    (None, 32)                0         \n",
            "_________________________________________________________________\n",
            "dense_7 (Dense)              (None, 32)                1056      \n",
            "_________________________________________________________________\n",
            "activation_3 (Activation)    (None, 32)                0         \n",
            "_________________________________________________________________\n",
            "reshape_2 (Reshape)          (None, 32, 1)             0         \n",
            "_________________________________________________________________\n",
            "lstm_6 (LSTM)                (None, 32, 16)            1152      \n",
            "_________________________________________________________________\n",
            "lstm_7 (LSTM)                (None, 32, 64)            20736     \n",
            "_________________________________________________________________\n",
            "lstm_8 (LSTM)                (None, 1024)              4460544   \n",
            "_________________________________________________________________\n",
            "dense_8 (Dense)              (None, 32)                32800     \n",
            "_________________________________________________________________\n",
            "dropout_2 (Dropout)          (None, 32)                0         \n",
            "_________________________________________________________________\n",
            "dense_9 (Dense)              (None, 16)                528       \n",
            "=================================================================\n",
            "Total params: 4,517,360\n",
            "Trainable params: 4,517,360\n",
            "Non-trainable params: 0\n",
            "_________________________________________________________________\n",
            "Model: \"eve2\"\n",
            "_________________________________________________________________\n",
            "Layer (type)                 Output Shape              Param #   \n",
            "=================================================================\n",
            "input_6 (InputLayer)         [(None, 16)]              0         \n",
            "_________________________________________________________________\n",
            "dense_10 (Dense)             (None, 32)                544       \n",
            "_________________________________________________________________\n",
            "activation_4 (Activation)    (None, 32)                0         \n",
            "_________________________________________________________________\n",
            "dense_11 (Dense)             (None, 32)                1056      \n",
            "_________________________________________________________________\n",
            "activation_5 (Activation)    (None, 32)                0         \n",
            "_________________________________________________________________\n",
            "reshape_3 (Reshape)          (None, 32, 1)             0         \n",
            "_________________________________________________________________\n",
            "lstm_9 (LSTM)                (None, 32, 16)            1152      \n",
            "_________________________________________________________________\n",
            "gru (GRU)                    (None, 32, 64)            15744     \n",
            "_________________________________________________________________\n",
            "lstm_10 (LSTM)               (None, 128)               98816     \n",
            "_________________________________________________________________\n",
            "dense_12 (Dense)             (None, 32)                4128      \n",
            "_________________________________________________________________\n",
            "dropout_3 (Dropout)          (None, 32)                0         \n",
            "_________________________________________________________________\n",
            "dense_13 (Dense)             (None, 16)                528       \n",
            "=================================================================\n",
            "Total params: 121,968\n",
            "Trainable params: 121,968\n",
            "Non-trainable params: 0\n",
            "_________________________________________________________________\n"
          ],
          "name": "stdout"
        }
      ]
    },
    {
      "cell_type": "code",
      "metadata": {
        "ExecuteTime": {
          "end_time": "2018-10-24T17:40:45.710471Z",
          "start_time": "2018-10-24T17:40:45.635579Z"
        },
        "id": "K6haNS6VPQlP",
        "colab_type": "code",
        "colab": {}
      },
      "source": [
        "alice.compile(loss='mse', optimizer='sgd')\n",
        "bob.compile(loss='mse', optimizer='sgd')\n",
        "eve.compile(loss='mse', optimizer='sgd')\n",
        "eve2.compile(loss='mse', optimizer='sgd')"
      ],
      "execution_count": null,
      "outputs": []
    },
    {
      "cell_type": "markdown",
      "metadata": {
        "id": "17qpiqdDPQlY",
        "colab_type": "text"
      },
      "source": [
        "### Loss + Optimizer"
      ]
    },
    {
      "cell_type": "code",
      "metadata": {
        "ExecuteTime": {
          "end_time": "2018-10-24T16:55:31.515986Z",
          "start_time": "2018-10-24T16:55:31.340478Z"
        },
        "id": "gPIAZKkHPQlZ",
        "colab_type": "code",
        "colab": {}
      },
      "source": [
        "# Establish the communication channels by linking inputs to outputs\n",
        "#\n",
        "aliceout = alice([ainput0, ainput1])\n",
        "bobout = bob( [aliceout, binput1] )# bob sees ciphertext AND key\n",
        "eveout = eve( aliceout )# eve doesn't see the key, only the cipher\n",
        "eve2out = eve2( aliceout )\n",
        "# Loss for Eve is just L1 distance between ainput0 and eoutput. The sum\n",
        "# is taken over all the bits in the message. The quantity inside the K.mean()\n",
        "# is per-example loss. We take the average across the entire mini-batch\n",
        "#\n",
        "eveloss = K.mean(  K.sum(K.abs(ainput0 - eveout), axis=-1)  )\n",
        "eve2loss = K.mean(  K.sum(K.abs(ainput1 - eve2out), axis=-1)  )\n",
        "# Loss for Alice-Bob communication depends on Bob's reconstruction, but\n",
        "# also on Eve's ability to decrypt the message. Eve should do no better\n",
        "# than random guessing, so on average she will guess half the bits right.\n",
        "#\n",
        "bobloss = K.mean(  K.sum(K.abs(ainput0 - bobout), axis=-1)  )\n",
        "abeloss = 2*bobloss + K.square(m_bits/2 - eveloss )/( (m_bits//2)**2 )+ K.square(k_bits/2 - eve2loss )/( (k_bits//2)**2 )\n",
        "\n",
        "# Optimizer and compilation\n",
        "#\n",
        "abeoptim = RMSprop(lr=0.001)\n",
        "eveoptim = RMSprop(lr=0.001) #default 0.001\n",
        "eveoptim2 = RMSprop(lr=0.001) #default 0.001\n",
        "\n",
        "# Build and compile the ABE model, used for training Alice-Bob networks\n",
        "#\n",
        "abemodel = Model([ainput0, ainput1, binput1], bobout, name='abemodel')\n",
        "abemodel.add_loss(abeloss)\n",
        "abemodel.compile(optimizer=abeoptim)\n",
        "\n",
        "\n",
        "# Build and compile the EVE model, used for training Eve net (with Alice frozen)\n",
        "#\n",
        "alice.trainable = False\n",
        "evemodel = Model([ainput0, ainput1], eveout, name='evemodel')\n",
        "evemodel.add_loss(eveloss)\n",
        "evemodel.compile(optimizer=eveoptim)\n",
        "\n",
        "# Build and compile the EVE2 model, used for training Eve2 net (with Alice frozen)\n",
        "#\n",
        "alice.trainable = False\n",
        "eve2model = Model([ainput0, ainput1], eve2out, name='eve2model')\n",
        "eve2model.add_loss(eve2loss)\n",
        "eve2model.compile(optimizer=eveoptim2)"
      ],
      "execution_count": null,
      "outputs": []
    },
    {
      "cell_type": "markdown",
      "metadata": {
        "id": "sQCmrBhpPQlf",
        "colab_type": "text"
      },
      "source": [
        "### Train / save / restore"
      ]
    },
    {
      "cell_type": "code",
      "metadata": {
        "id": "QVxh0DEL2Y4V",
        "colab_type": "code",
        "colab": {}
      },
      "source": [
        "abelosses = []\n",
        "boblosses = []\n",
        "evelosses = []\n",
        "eve2losses = []\n",
        "# epoch = 0\n",
        "# print(\"Training for\", n_epochs, \"epochs with\", n_batches, \"batches of size\", batch_size)\n"
      ],
      "execution_count": null,
      "outputs": []
    },
    {
      "cell_type": "code",
      "metadata": {
        "id": "ENOi3Tv_Soa_",
        "colab_type": "code",
        "colab": {}
      },
      "source": [
        "import sys\n",
        "from tensorflow import keras\n",
        "import logging\n",
        "logging.basicConfig(stream=sys.stdout, level=logging.INFO)\n",
        "from datetime import datetime\n",
        "logdir = \"logs/\" + datetime.now().strftime(\"%Y%m%d-%H%M%S\")\n",
        "logging.basicConfig(filename=log,level=logging.DEBUG,format='%(asctime)s %(message)s', datefmt='\"%Y%m%d-%H%M%S\"')"
      ],
      "execution_count": null,
      "outputs": []
    },
    {
      "cell_type": "code",
      "metadata": {
        "id": "QBSZQwpJTZjI",
        "colab_type": "code",
        "colab": {}
      },
      "source": [
        "%load_ext tensorboard\n",
        "%tensorboard --logdir logs/"
      ],
      "execution_count": null,
      "outputs": []
    },
    {
      "cell_type": "code",
      "metadata": {
        "ExecuteTime": {
          "end_time": "2018-10-20T13:34:58.910922Z",
          "start_time": "2018-10-20T13:32:12.794003Z"
        },
        "id": "iVMorr_oPQln",
        "colab_type": "code",
        "colab": {
          "base_uri": "https://localhost:8080/",
          "height": 1000
        },
        "outputId": "ff67b3fd-52ce-42ed-e025-53a3f32c739c"
      },
      "source": [
        "\n",
        "n_epochs = 2000\n",
        "batch_size = 512\n",
        "n_batches = m_train // batch_size\n",
        "\n",
        "abecycles = 1\n",
        "evecycles = 4\n",
        "\n",
        "\n",
        "while epoch < n_epochs:\n",
        "    abelosses0 = []\n",
        "    boblosses0 = []\n",
        "    evelosses0 = []\n",
        "    eve2losses0 = []\n",
        "    tic = time.time()\n",
        "    for iteration in range(n_batches):\n",
        "        \n",
        "        # Train the A-B+E network\n",
        "        #\n",
        "        alice.trainable = True\n",
        "        for cycle in range(abecycles):\n",
        "            # Select a random batch of messages, and a random batch of keys\n",
        "            #\n",
        "            m_batch = np.random.randint(0, 2, m_bits * batch_size).reshape(batch_size, m_bits)\n",
        "            k_batch = np.random.randint(0, 2, k_bits * batch_size).reshape(batch_size, k_bits)\n",
        "            loss = abemodel.train_on_batch([m_batch, k_batch, k_batch], None)\n",
        "        \n",
        "        abelosses0.append(loss)\n",
        "        abelosses.append(loss)\n",
        "        abeavg = np.mean(abelosses0)\n",
        "            \n",
        "        # Evaluate Bob's ability to decrypt a message\n",
        "        m_enc = alice.predict([m_batch, k_batch])\n",
        "        m_dec = bob.predict([m_enc, k_batch])\n",
        "        loss = np.mean(  np.sum( np.abs(m_batch - m_dec), axis=-1)  )\n",
        "        boblosses0.append(loss)\n",
        "        boblosses.append(loss)\n",
        "        bobavg = np.mean(boblosses0)\n",
        "        \n",
        "        # Train the EVE network\n",
        "        #\n",
        "        alice.trainable = False\n",
        "        for cycle in range(evecycles):\n",
        "            m_batch = np.random.randint(0, 2, m_bits * batch_size).reshape(batch_size, m_bits)\n",
        "            k_batch = np.random.randint(0, 2, k_bits * batch_size).reshape(batch_size, k_bits)\n",
        "            loss = evemodel.train_on_batch([m_batch, k_batch], None)\n",
        "        \n",
        "        evelosses0.append(loss)\n",
        "        evelosses.append(loss)\n",
        "        eveavg = np.mean(evelosses0)\n",
        "        # Train the EVE2 network\n",
        "        #\n",
        "        alice.trainable = False\n",
        "        for cycle in range(evecycles):\n",
        "            m_batch = np.random.randint(0, 2, m_bits * batch_size).reshape(batch_size, m_bits)\n",
        "            k_batch = np.random.randint(0, 2, k_bits * batch_size).reshape(batch_size, k_bits)\n",
        "            loss = eve2model.train_on_batch([m_batch, k_batch], None)\n",
        "        \n",
        "        eve2losses0.append(loss)\n",
        "        eve2losses.append(loss)\n",
        "        eve2avg = np.mean(eve2losses0)\n",
        "        tac  = time.time()\n",
        "        if iteration % max(1, (n_batches // 100)) == 0:\n",
        "            print(\"\\r Time: {} | Epoch {:3}: {:3}% | abe: {:2.3f} | eve: {:2.3f} | eve2: {:2.3f}| bob: {:2.3f}\".format(\n",
        "                tac-tic, epoch, 100 * iteration // n_batches, abeavg, eveavg, eve2avg,bobavg), end=\"\\f\")\n",
        "            logging.info(\"\\r Epoch {:3}: {:3}% | abe: {:2.3f} | eve: {:2.3f} | eve2: {:2.3f}| bob: {:2.3f}\".format(\n",
        "                tac-tic, epoch, 100 * iteration // n_batches, abeavg, eveavg, eve2avg,bobavg))\n",
        "            sys.stdout.flush()\n",
        "       \n",
        "        # Model Check-Point\n",
        "        if epoch%10==0:\n",
        "          name = 'epoch_' + str(epoch + 1) + '_bob_' + str(bobavg) + '.h5'\n",
        "          model.save(name)\n",
        "          best_val_acc = val_acc\n",
        "      \n",
        "    print()\n",
        "    epoch += 1\n",
        "    \n",
        "print('Training finished.')"
      ],
      "execution_count": null,
      "outputs": [
        {
          "output_type": "stream",
          "text": [
            "Epoch  21:  99% | abe: 9.409 | eve: 4.950 | eve2: 7.929| bob: 4.534\n",
            "Epoch  22:  99% | abe: 9.317 | eve: 4.854 | eve2: 7.917| bob: 4.477\n",
            "Epoch  23:  99% | abe: 9.164 | eve: 4.754 | eve2: 7.912| bob: 4.394\n",
            "Epoch  24:  99% | abe: 9.035 | eve: 4.675 | eve2: 7.913| bob: 4.327\n",
            "Epoch  25:  99% | abe: 9.081 | eve: 4.710 | eve2: 7.905| bob: 4.361\n",
            "Epoch  26:  99% | abe: 9.004 | eve: 4.683 | eve2: 7.914| bob: 4.324\n",
            "Epoch  27:  99% | abe: 8.897 | eve: 4.621 | eve2: 7.916| bob: 4.267\n",
            "Epoch  28:  99% | abe: 8.829 | eve: 4.600 | eve2: 7.917| bob: 4.234\n",
            "Epoch  29:  99% | abe: 8.836 | eve: 4.628 | eve2: 7.903| bob: 4.239\n",
            "Epoch  30:  99% | abe: 8.832 | eve: 4.624 | eve2: 7.909| bob: 4.235\n",
            "Epoch  31:  99% | abe: 8.755 | eve: 4.585 | eve2: 7.917| bob: 4.206\n",
            "Epoch  32:  99% | abe: 8.711 | eve: 4.569 | eve2: 7.909| bob: 4.186\n",
            "Epoch  33:  99% | abe: 8.697 | eve: 4.559 | eve2: 7.902| bob: 4.175\n",
            "Epoch  34:  99% | abe: 8.649 | eve: 4.556 | eve2: 7.916| bob: 4.154\n",
            "Epoch  35:  99% | abe: 8.595 | eve: 4.562 | eve2: 7.906| bob: 4.123\n",
            "Epoch  36:  99% | abe: 8.562 | eve: 4.589 | eve2: 7.909| bob: 4.110\n",
            "Epoch  37:  99% | abe: 8.532 | eve: 4.548 | eve2: 7.896| bob: 4.093\n",
            "Epoch  38:  99% | abe: 8.435 | eve: 4.521 | eve2: 7.899| bob: 4.044\n",
            "Epoch  39:  99% | abe: 8.404 | eve: 4.512 | eve2: 7.922| bob: 4.031\n",
            "Epoch  40:  99% | abe: 8.353 | eve: 4.497 | eve2: 7.903| bob: 4.006\n",
            "Epoch  41:  99% | abe: 8.332 | eve: 4.494 | eve2: 7.905| bob: 3.999\n",
            "Epoch  42:  99% | abe: 8.293 | eve: 4.471 | eve2: 7.896| bob: 3.978\n",
            "Epoch  43:  99% | abe: 8.241 | eve: 4.453 | eve2: 7.897| bob: 3.954\n",
            "Epoch  44:  99% | abe: 8.276 | eve: 4.468 | eve2: 7.903| bob: 3.976\n",
            "Epoch  45:  99% | abe: 8.122 | eve: 4.435 | eve2: 7.928| bob: 3.896\n",
            "Epoch  46:  99% | abe: 8.100 | eve: 4.421 | eve2: 7.914| bob: 3.890\n",
            "Epoch  47:  99% | abe: 8.091 | eve: 4.395 | eve2: 7.925| bob: 3.886\n",
            "Epoch  48:  99% | abe: 8.080 | eve: 4.401 | eve2: 7.920| bob: 3.882\n",
            "Epoch  49:  99% | abe: 8.060 | eve: 4.415 | eve2: 7.922| bob: 3.877\n",
            "Epoch  50:  99% | abe: 8.061 | eve: 4.404 | eve2: 7.929| bob: 3.879\n",
            "Epoch  51:  99% | abe: 8.059 | eve: 4.417 | eve2: 7.911| bob: 3.880\n",
            "Epoch  52:  99% | abe: 8.046 | eve: 4.406 | eve2: 7.928| bob: 3.874\n",
            "Epoch  53:  99% | abe: 8.163 | eve: 4.439 | eve2: 7.914| bob: 3.934\n",
            "Epoch  54:  99% | abe: 8.081 | eve: 4.411 | eve2: 7.929| bob: 3.892\n",
            "Epoch  55:  99% | abe: 8.145 | eve: 4.435 | eve2: 7.936| bob: 3.929\n",
            "Epoch  56:  99% | abe: 8.154 | eve: 4.480 | eve2: 7.914| bob: 3.938\n",
            "Epoch  57:  99% | abe: 8.019 | eve: 4.424 | eve2: 7.943| bob: 3.865\n",
            "Epoch  58:  99% | abe: 7.977 | eve: 4.404 | eve2: 7.949| bob: 3.846\n",
            "Epoch  59:  99% | abe: 7.957 | eve: 4.376 | eve2: 7.944| bob: 3.834\n",
            "Epoch  60:  99% | abe: 7.963 | eve: 4.396 | eve2: 7.928| bob: 3.842\n",
            "Epoch  61:  99% | abe: 7.970 | eve: 4.393 | eve2: 7.928| bob: 3.843\n",
            "Epoch  62:  99% | abe: 8.011 | eve: 4.416 | eve2: 7.937| bob: 3.868\n",
            "Epoch  63:  99% | abe: 7.965 | eve: 4.389 | eve2: 7.961| bob: 3.845\n",
            "Epoch  64:  99% | abe: 8.000 | eve: 4.389 | eve2: 7.962| bob: 3.858\n",
            "Epoch  65:  99% | abe: 7.969 | eve: 4.411 | eve2: 7.960| bob: 3.841\n",
            "Epoch  66:  99% | abe: 8.039 | eve: 4.485 | eve2: 7.979| bob: 3.878\n",
            "Epoch  67:  99% | abe: 7.957 | eve: 4.434 | eve2: 8.010| bob: 3.834\n",
            "Epoch  68:  99% | abe: 7.905 | eve: 4.419 | eve2: 7.983| bob: 3.806\n",
            "Epoch  69:  99% | abe: 7.746 | eve: 4.382 | eve2: 8.002| bob: 3.717\n",
            "Epoch  70:  99% | abe: 7.625 | eve: 4.378 | eve2: 7.989| bob: 3.653\n",
            "Epoch  71:  99% | abe: 7.491 | eve: 4.320 | eve2: 7.986| bob: 3.583\n",
            "Epoch  72:  99% | abe: 7.402 | eve: 4.307 | eve2: 7.981| bob: 3.546\n",
            "Epoch  73:  99% | abe: 7.390 | eve: 4.298 | eve2: 7.989| bob: 3.543\n",
            "Epoch  74:  99% | abe: 7.375 | eve: 4.289 | eve2: 7.984| bob: 3.543\n",
            "Epoch  75:  99% | abe: 7.337 | eve: 4.275 | eve2: 7.988| bob: 3.527\n",
            "Epoch  76:  99% | abe: 7.317 | eve: 4.291 | eve2: 7.990| bob: 3.516\n",
            "Epoch  77:  99% | abe: 7.284 | eve: 4.246 | eve2: 7.987| bob: 3.500\n",
            "Epoch  78:  99% | abe: 7.236 | eve: 4.216 | eve2: 7.981| bob: 3.472\n",
            "Epoch  79:  99% | abe: 7.170 | eve: 4.217 | eve2: 7.993| bob: 3.430\n",
            "Epoch  80:  99% | abe: 7.070 | eve: 4.194 | eve2: 7.998| bob: 3.380\n",
            "Epoch  81:  99% | abe: 6.990 | eve: 4.177 | eve2: 7.996| bob: 3.345\n",
            "Epoch  82:  99% | abe: 6.937 | eve: 4.158 | eve2: 7.999| bob: 3.320\n",
            "Epoch  83:  99% | abe: 6.909 | eve: 4.134 | eve2: 8.000| bob: 3.305\n",
            "Epoch  84:  99% | abe: 6.850 | eve: 4.122 | eve2: 7.990| bob: 3.276\n",
            "Epoch  85:  99% | abe: 6.834 | eve: 4.115 | eve2: 8.002| bob: 3.271\n",
            "Epoch  86:  99% | abe: 6.794 | eve: 4.094 | eve2: 7.990| bob: 3.253\n",
            "Epoch  87:  99% | abe: 6.782 | eve: 4.071 | eve2: 8.001| bob: 3.252\n",
            "Epoch  88:  99% | abe: 6.757 | eve: 4.063 | eve2: 7.989| bob: 3.234\n",
            "Epoch  89:  99% | abe: 6.743 | eve: 4.064 | eve2: 7.996| bob: 3.230\n",
            "Epoch  90:  99% | abe: 6.728 | eve: 4.055 | eve2: 7.999| bob: 3.223\n",
            "Epoch  91:  99% | abe: 6.833 | eve: 4.075 | eve2: 7.995| bob: 3.274\n",
            "Epoch  92:  99% | abe: 6.710 | eve: 4.021 | eve2: 7.986| bob: 3.215\n",
            "Epoch  93:  99% | abe: 6.788 | eve: 4.035 | eve2: 7.979| bob: 3.250\n",
            "Epoch  94:  99% | abe: 6.686 | eve: 4.003 | eve2: 7.995| bob: 3.202\n",
            "Epoch  95:  99% | abe: 6.665 | eve: 3.995 | eve2: 7.992| bob: 3.191\n",
            "Epoch  96:  99% | abe: 6.639 | eve: 4.000 | eve2: 7.999| bob: 3.174\n",
            "Epoch  97:  99% | abe: 6.581 | eve: 3.985 | eve2: 7.999| bob: 3.142\n",
            "Epoch  98:  99% | abe: 6.528 | eve: 4.001 | eve2: 7.991| bob: 3.111\n",
            "Epoch  99:  99% | abe: 6.479 | eve: 3.999 | eve2: 7.995| bob: 3.089\n",
            "Epoch 100:  99% | abe: 6.416 | eve: 3.980 | eve2: 8.001| bob: 3.054\n",
            "Epoch 101:  99% | abe: 6.377 | eve: 3.979 | eve2: 7.997| bob: 3.029\n",
            "Epoch 102:  99% | abe: 6.325 | eve: 3.967 | eve2: 8.003| bob: 3.001\n",
            "Epoch 103:  99% | abe: 6.312 | eve: 3.976 | eve2: 7.992| bob: 2.993\n",
            "Epoch 104:  99% | abe: 6.280 | eve: 3.988 | eve2: 8.003| bob: 2.981\n",
            "Epoch 105:  99% | abe: 6.219 | eve: 3.975 | eve2: 7.997| bob: 2.953\n",
            "Epoch 106:  99% | abe: 6.246 | eve: 3.992 | eve2: 7.993| bob: 2.967\n",
            "Epoch 107:  99% | abe: 6.210 | eve: 3.986 | eve2: 7.978| bob: 2.951\n",
            "Epoch 108:  99% | abe: 6.190 | eve: 3.987 | eve2: 7.979| bob: 2.943\n",
            "Epoch 109:  99% | abe: 6.140 | eve: 3.997 | eve2: 7.972| bob: 2.920\n",
            "Epoch 110:  99% | abe: 6.094 | eve: 3.991 | eve2: 7.981| bob: 2.895\n",
            "Epoch 111:  99% | abe: 6.049 | eve: 3.975 | eve2: 7.990| bob: 2.869\n",
            "Epoch 112:  99% | abe: 5.967 | eve: 3.972 | eve2: 7.990| bob: 2.829\n",
            "Epoch 113:  99% | abe: 5.921 | eve: 3.967 | eve2: 8.002| bob: 2.805\n",
            "Epoch 114:  99% | abe: 5.900 | eve: 3.938 | eve2: 8.001| bob: 2.799\n",
            "Epoch 115:  99% | abe: 5.897 | eve: 3.936 | eve2: 7.999| bob: 2.797\n",
            "Epoch 116:  99% | abe: 5.863 | eve: 3.932 | eve2: 7.997| bob: 2.776\n",
            "Epoch 117:  99% | abe: 5.862 | eve: 3.968 | eve2: 7.997| bob: 2.777\n",
            "Epoch 118:  99% | abe: 5.788 | eve: 3.926 | eve2: 7.996| bob: 2.732\n",
            "Epoch 119:  99% | abe: 5.670 | eve: 3.916 | eve2: 8.003| bob: 2.668\n",
            "Epoch 120:  99% | abe: 5.613 | eve: 3.906 | eve2: 7.999| bob: 2.646\n",
            "Epoch 121:  99% | abe: 5.576 | eve: 3.903 | eve2: 8.001| bob: 2.635\n",
            "Epoch 122:  99% | abe: 5.568 | eve: 3.901 | eve2: 7.999| bob: 2.632\n",
            "Epoch 123:  37% | abe: 5.565 | eve: 3.915 | eve2: 7.999| bob: 2.631"
          ],
          "name": "stdout"
        }
      ]
    },
    {
      "cell_type": "code",
      "metadata": {
        "ExecuteTime": {
          "end_time": "2018-10-20T13:35:32.154853Z",
          "start_time": "2018-10-20T13:35:31.667925Z"
        },
        "id": "KW2ZmC2SPQlu",
        "colab_type": "code",
        "colab": {
          "base_uri": "https://localhost:8080/",
          "height": 283
        },
        "outputId": "39d380ab-ae10-4f29-a9cb-1192aef47e02"
      },
      "source": [
        "steps = -1\n",
        "\n",
        "plt.figure(figsize=(7, 4))\n",
        "plt.plot(abelosses[:steps], label='A-B')\n",
        "plt.plot(evelosses[:steps], label='Eve')\n",
        "plt.plot(eve2losses[:steps], label='Eve2')\n",
        "plt.plot(boblosses[:steps], label='Bob')\n",
        "plt.xlabel(\"Iterations\", fontsize=13)\n",
        "plt.ylabel(\"Loss\", fontsize=13)\n",
        "plt.legend(fontsize=13)\n",
        "np.savetxt(\"logs.txt\",l)\n",
        "#plt.savefig(\"images/\" + model_name + \".png\", transparent=True) #dpi=100\n",
        "plt.show()"
      ],
      "execution_count": null,
      "outputs": [
        {
          "output_type": "display_data",
          "data": {
            "image/png": "[encoded data removed]",
            "text/plain": [
              "<Figure size 504x288 with 1 Axes>"
            ]
          },
          "metadata": {
            "tags": [],
            "needs_background": "light"
          }
        }
      ]
    },
    {
      "cell_type": "code",
      "metadata": {
        "ExecuteTime": {
          "end_time": "2018-10-20T13:36:55.793226Z",
          "start_time": "2018-10-20T13:36:54.997151Z"
        },
        "id": "pZJUVwRlPQl0",
        "colab_type": "code",
        "colab": {}
      },
      "source": [
        "\n",
        "if True: #Don't overwrite by accident\n",
        "    alice.save('alice' + '.h5', overwrite=True)\n",
        "    bob.save('bob' + '.h5', overwrite=True)\n",
        "    eve.save('eve' + '.h5', overwrite=True)\n",
        "    eve2.save('eve2' + '.h5', overwrite=True)"
      ],
      "execution_count": null,
      "outputs": []
    },
    {
      "cell_type": "code",
      "metadata": {
        "id": "sY2L6LAszruX",
        "colab_type": "code",
        "colab": {
          "base_uri": "https://localhost:8080/",
          "height": 121
        },
        "outputId": "99697425-f1f2-4485-edcb-a9b002fa08cc"
      },
      "source": [
        "from google.colab import drive\n",
        "drive.mount('/gdrive')"
      ],
      "execution_count": null,
      "outputs": [
        {
          "output_type": "stream",
          "text": [
            "Go to this URL in a browser: https://accounts.google.com/o/oauth2/auth?client_id=947318989803-6bn6qk8qdgf4n4g3pfee6491hc0brc4i.apps.googleusercontent.com&redirect_uri=urn%3aietf%3awg%3aoauth%3a2.0%3aoob&scope=email%20https%3a%2f%2fwww.googleapis.com%2fauth%2fdocs.test%20https%3a%2f%2fwww.googleapis.com%2fauth%2fdrive%20https%3a%2f%2fwww.googleapis.com%2fauth%2fdrive.photos.readonly%20https%3a%2f%2fwww.googleapis.com%2fauth%2fpeopleapi.readonly&response_type=code\n",
            "\n",
            "Enter your authorization code:\n",
            "··········\n",
            "Mounted at /gdrive\n"
          ],
          "name": "stdout"
        }
      ]
    },
    {
      "cell_type": "code",
      "metadata": {
        "id": "cMoed4KBz7Ik",
        "colab_type": "code",
        "colab": {
          "base_uri": "https://localhost:8080/",
          "height": 34
        },
        "outputId": "4236c11d-cf05-42b8-e952-881b418d1322"
      },
      "source": [
        "ls"
      ],
      "execution_count": null,
      "outputs": [
        {
          "output_type": "stream",
          "text": [
            "alice.h5  bob.h5  eve2.h5  eve.h5  \u001b[0m\u001b[01;34msample_data\u001b[0m/\n"
          ],
          "name": "stdout"
        }
      ]
    },
    {
      "cell_type": "code",
      "metadata": {
        "id": "xnZE7nSHyaj5",
        "colab_type": "code",
        "colab": {
          "base_uri": "https://localhost:8080/",
          "height": 34
        },
        "outputId": "3a01d36c-3c46-4d6a-b285-727bac1a8936"
      },
      "source": [
        "ls"
      ],
      "execution_count": null,
      "outputs": [
        {
          "output_type": "stream",
          "text": [
            "\u001b[0m\u001b[01;34msample_data\u001b[0m/\n"
          ],
          "name": "stdout"
        }
      ]
    },
    {
      "cell_type": "code",
      "metadata": {
        "id": "KJnGcuByyztC",
        "colab_type": "code",
        "colab": {
          "base_uri": "https://localhost:8080/",
          "height": 35
        },
        "outputId": "b458d840-7c25-4c81-b19f-fe0ab2807008"
      },
      "source": [
        "pwd"
      ],
      "execution_count": null,
      "outputs": [
        {
          "output_type": "execute_result",
          "data": {
            "application/vnd.google.colaboratory.intrinsic+json": {
              "type": "string"
            },
            "text/plain": [
              "'/content'"
            ]
          },
          "metadata": {
            "tags": []
          },
          "execution_count": 19
        }
      ]
    },
    {
      "cell_type": "markdown",
      "metadata": {
        "id": "KIn6XJE6PQl5",
        "colab_type": "text"
      },
      "source": [
        "### Evaluate"
      ]
    },
    {
      "cell_type": "code",
      "metadata": {
        "ExecuteTime": {
          "end_time": "2018-10-24T17:50:10.371092Z",
          "start_time": "2018-10-24T17:50:08.651549Z"
        },
        "id": "oq10TuISPQl7",
        "colab_type": "code",
        "colab": {}
      },
      "source": [
        "n_examples = 10000\n",
        "\n",
        "m_batch = np.random.randint(0, 2, m_bits * n_examples).reshape(n_examples, m_bits)\n",
        "k_batch = np.random.randint(0, 2, m_bits * n_examples).reshape(n_examples, m_bits)\n",
        "\n",
        "m_enc = alice.predict([m_batch, k_batch])\n",
        "m_dec = (bob.predict([m_enc, k_batch]) > 0.5).astype(int)\n",
        "m_att = (eve.predict(m_enc) > 0.5).astype(int)\n",
        "\n",
        "bdiff = np.abs(m_batch - m_dec)\n",
        "bsum = np.sum(bdiff, axis=-1)\n",
        "ediff = np.abs(m_batch - m_att)\n",
        "esum = np.sum(ediff, axis=-1)\n",
        "\n",
        "print(\"Bob % correct: \", 100.0*np.sum(bsum == 0) / n_examples, '%')\n",
        "print(\"Eve % correct: \", 100.0*np.sum(esum == 0) / n_examples, '%')"
      ],
      "execution_count": null,
      "outputs": []
    },
    {
      "cell_type": "markdown",
      "metadata": {
        "id": "BgzPXuUIPQmA",
        "colab_type": "text"
      },
      "source": [
        "### Freeze Alice-Bob"
      ]
    },
    {
      "cell_type": "code",
      "metadata": {
        "ExecuteTime": {
          "end_time": "2018-10-24T17:40:52.452236Z",
          "start_time": "2018-10-24T17:40:52.185923Z"
        },
        "id": "oYlnOTWOPQmB",
        "colab_type": "code",
        "colab": {}
      },
      "source": [
        "if False:\n",
        "    alice = load_model(alice_file + '.h5')\n",
        "    bob = load_model(bob_file + '.h5')\n",
        "    eve = load_model(eve_file + '.h5')\n",
        "\n",
        "aliceout = alice([ainput0, ainput1])\n",
        "bobout = bob( [aliceout, binput1] )# bob sees ciphertext AND key\n",
        "eveout = eve( aliceout )# eve doesn't see the key, only the cipher\n",
        "\n",
        "eveloss = K.mean(  K.sum(K.abs(ainput0 - eveout), axis=-1)  )\n",
        "bobloss = K.mean(  K.sum(K.abs(ainput0 - bobout), axis=-1)  )\n",
        "abeloss = bobloss + K.square(m_bits/2 - eveloss)/( (m_bits//2)**2 )\n",
        "\n",
        "abeoptim = RMSprop(lr=0.001)\n",
        "eveoptim = Adam()#RMSprop(lr=0.001) #default 0.001\n",
        "\n",
        "abemodel = Model([ainput0, ainput1, binput1], bobout, name='abemodel')\n",
        "abemodel.add_loss(abeloss)\n",
        "abemodel.compile(optimizer=abeoptim)\n",
        "\n",
        "alice.trainable = False\n",
        "evemodel = Model([ainput0, ainput1], eveout, name='evemodel')\n",
        "evemodel.add_loss(eveloss)\n",
        "evemodel.compile(optimizer=eveoptim)\n",
        "\n",
        "abelosses = []\n",
        "boblosses = []\n",
        "evelosses = []"
      ],
      "execution_count": null,
      "outputs": []
    },
    {
      "cell_type": "code",
      "metadata": {
        "ExecuteTime": {
          "end_time": "2018-10-24T17:42:53.191446Z",
          "start_time": "2018-10-24T17:40:52.740728Z"
        },
        "id": "eHy4ljN4PQmH",
        "colab_type": "code",
        "colab": {}
      },
      "source": [
        "n_epochs = 20\n",
        "batch_size = 512\n",
        "n_batches = m_train // batch_size\n",
        "\n",
        "epoch = 0\n",
        "print(\"Training for\", n_epochs, \"epochs with\", n_batches, \"batches of size\", batch_size)\n",
        "\n",
        "while epoch < n_epochs:\n",
        "    abelosses0 = []\n",
        "    boblosses0 = []\n",
        "    evelosses0 = []\n",
        "    for iteration in range(n_batches):\n",
        "        # Train Eve model only\n",
        "        #\n",
        "        alice.trainable = False\n",
        "        m_batch = np.random.randint(0, 2, m_bits * batch_size).reshape(batch_size, m_bits)\n",
        "        k_batch = np.random.randint(0, 2, k_bits * batch_size).reshape(batch_size, k_bits)\n",
        "        eveloss = evemodel.train_on_batch([m_batch, k_batch], None)\n",
        "        evelosses0.append(eveloss)\n",
        "        evelosses.append(eveloss)\n",
        "        eveavg = np.mean(evelosses0)\n",
        "        \n",
        "        # Evaluate Bob's ability to decrypt a message\n",
        "        m_enc = alice.predict([m_batch, k_batch])\n",
        "        m_dec = bob.predict([m_enc, k_batch])\n",
        "        bobloss = np.mean(  np.sum( np.abs(m_batch - m_dec), axis=-1)  )\n",
        "        boblosses0.append(bobloss)\n",
        "        boblosses.append(bobloss)\n",
        "        bobavg = np.mean(boblosses0)\n",
        "        \n",
        "        # Evaluate the ABE loss\n",
        "        abeloss = bobloss + ((m_bits/2 - eveloss)**2) / ( (m_bits//2)**2 )\n",
        "        abelosses0.append(abeloss)\n",
        "        abelosses.append(abeloss)\n",
        "        abeavg = np.mean(abelosses0)\n",
        "        \n",
        "        if iteration % max(1, (n_batches // 100)) == 0:\n",
        "            print(\"\\rEpoch {:3}: {:3}% | abe: {:2.3f} | eve: {:2.3f} | bob: {:2.3f}\".format(\n",
        "                epoch, 100 * iteration // n_batches, abeavg, eveavg, bobavg), end=\"\")\n",
        "            sys.stdout.flush()\n",
        "    \n",
        "    print()\n",
        "    epoch += 1\n",
        "    \n",
        "print('Training finished.')"
      ],
      "execution_count": null,
      "outputs": []
    },
    {
      "cell_type": "code",
      "metadata": {
        "ExecuteTime": {
          "end_time": "2018-10-24T17:42:57.033465Z",
          "start_time": "2018-10-24T17:42:56.896804Z"
        },
        "scrolled": true,
        "id": "4RbblxThPQmM",
        "colab_type": "code",
        "colab": {}
      },
      "source": [
        "steps = -1\n",
        "\n",
        "plt.figure(figsize=(7, 4))\n",
        "plt.plot(abelosses[:steps], label='A-B')\n",
        "plt.plot(evelosses[:steps], label='Eve')\n",
        "plt.plot(boblosses[:steps], label='Bob')\n",
        "plt.xlabel(\"Iterations\", fontsize=13)\n",
        "plt.ylabel(\"Loss\", fontsize=13)\n",
        "plt.legend(fontsize=13)\n",
        "\n",
        "#plt.savefig(\"images/\" + model_name + \"-eve1.png\", transparent=True) #dpi=100\n",
        "plt.show()"
      ],
      "execution_count": null,
      "outputs": []
    },
    {
      "cell_type": "code",
      "metadata": {
        "ExecuteTime": {
          "end_time": "2018-10-24T17:43:01.415532Z",
          "start_time": "2018-10-24T17:43:00.239676Z"
        },
        "id": "fmO82HH7PQmQ",
        "colab_type": "code",
        "colab": {}
      },
      "source": [
        "n_examples = 10000\n",
        "\n",
        "m_batch = np.random.randint(0, 2, m_bits * n_examples).reshape(n_examples, m_bits)\n",
        "k_batch = np.random.randint(0, 2, m_bits * n_examples).reshape(n_examples, m_bits)\n",
        "\n",
        "m_enc = alice.predict([m_batch, k_batch])\n",
        "m_dec = (bob.predict([m_enc, k_batch]) > 0.5).astype(int)\n",
        "m_att = (eve.predict(m_enc) > 0.5).astype(int)\n",
        "\n",
        "bdiff = np.abs(m_batch - m_dec)\n",
        "bsum = np.sum(bdiff, axis=-1)\n",
        "ediff = np.abs(m_batch - m_att)\n",
        "esum = np.sum(ediff, axis=-1)\n",
        "\n",
        "print(\"Bob % correct: \", 100.0*np.sum(bsum == 0) / n_examples, '%')\n",
        "print(\"Eve % correct: \", 100.0*np.sum(esum == 0) / n_examples, '%')"
      ],
      "execution_count": null,
      "outputs": []
    },
    {
      "cell_type": "markdown",
      "metadata": {
        "id": "SkLptNZzPQmV",
        "colab_type": "text"
      },
      "source": [
        "## CNN"
      ]
    },
    {
      "cell_type": "code",
      "metadata": {
        "ExecuteTime": {
          "end_time": "2018-10-24T17:40:45.280385Z",
          "start_time": "2018-10-24T17:40:45.004123Z"
        },
        "id": "GV8GssR0PQmW",
        "colab_type": "code",
        "colab": {}
      },
      "source": [
        "K.clear_session()\n",
        "\n",
        "##### Alice network #####\n",
        "#\n",
        "ainput0 = Input(shape=(m_bits,)) #message\n",
        "ainput1 = Input(shape=(k_bits,)) #key\n",
        "ainput = concatenate([ainput0, ainput1], axis=1)\n",
        "\n",
        "adense1 = Dense(units=(m_bits + k_bits))(ainput)\n",
        "adense1a = Activation('tanh')(adense1)\n",
        "areshape = Reshape((m_bits + k_bits, 1,))(adense1a)\n",
        "\n",
        "aconv1 = Conv1D(filters=2, kernel_size=4, strides=1, padding=pad)(areshape)\n",
        "aconv1a = Activation('tanh')(aconv1)\n",
        "aconv2 = Conv1D(filters=4, kernel_size=2, strides=2, padding=pad)(aconv1a)\n",
        "aconv2a = Activation('tanh')(aconv2)\n",
        "aconv3 = Conv1D(filters=4, kernel_size=1, strides=1, padding=pad)(aconv2a)\n",
        "aconv3a = Activation('tanh')(aconv3)\n",
        "aconv4 = Conv1D(filters=1, kernel_size=1, strides=1, padding=pad)(aconv3a)\n",
        "\n",
        "aconv4a = Activation('sigmoid')(aconv4)\n",
        "\n",
        "\n",
        "\n",
        "aoutput = Flatten()(aconv4a)\n",
        "\n",
        "alice = Model([ainput0, ainput1], aoutput, name='alice')\n",
        "alice.summary()\n",
        "\n",
        "\n",
        "##### Bob network #####\n",
        "#\n",
        "binput0 = Input(shape=(c_bits,)) #ciphertext\n",
        "binput1 = Input(shape=(k_bits,)) #key\n",
        "binput = concatenate([binput0, binput1], axis=1)\n",
        "\n",
        "bdense1 = Dense(units=(c_bits + k_bits))(binput)\n",
        "bdense1a = Activation('tanh')(bdense1)\n",
        "\n",
        "breshape = Reshape((c_bits + k_bits, 1,))(bdense1a)\n",
        "\n",
        "bconv1 = Conv1D(filters=2, kernel_size=4, strides=1, padding=pad)(breshape)\n",
        "bconv1a = Activation('tanh')(bconv1)\n",
        "bconv2 = Conv1D(filters=4, kernel_size=2, strides=2, padding=pad)(bconv1a)\n",
        "bconv2a = Activation('tanh')(bconv2)\n",
        "bconv3 = Conv1D(filters=4, kernel_size=1, strides=1, padding=pad)(bconv2a)\n",
        "bconv3a = Activation('tanh')(bconv3)\n",
        "bconv4 = Conv1D(filters=1, kernel_size=1, strides=1, padding=pad)(bconv3a)\n",
        "bconv4a = Activation('sigmoid')(bconv4)\n",
        "\n",
        "boutput = Flatten()(bconv4a)\n",
        "\n",
        "bob = Model([binput0, binput1], boutput, name='bob')\n",
        "bob.summary()\n",
        "\n",
        "\n",
        "# Eve network\n",
        "#\n",
        "einput = Input(shape=(c_bits,)) #ciphertext only\n",
        "\n",
        "edense1 = Dense(units=(c_bits + k_bits))(einput)\n",
        "edense1a = Activation('tanh')(edense1)\n",
        "\n",
        "edense2 = Dense(units=(c_bits + k_bits))(edense1a)\n",
        "edense2a = Activation('tanh')(edense2)\n",
        "\n",
        "ereshape = Reshape((c_bits + k_bits, 1,))(edense2a)\n",
        "\n",
        "econv1 = Conv1D(filters=2, kernel_size=4, strides=1, padding=pad)(ereshape)\n",
        "econv1a = Activation('tanh')(econv1)\n",
        "econv2 = Conv1D(filters=4, kernel_size=2, strides=2, padding=pad)(econv1a)\n",
        "econv2a = Activation('tanh')(econv2)\n",
        "econv3 = Conv1D(filters=4, kernel_size=1, strides=1, padding=pad)(econv2a)\n",
        "econv3a = Activation('tanh')(econv3)\n",
        "econv4 = Conv1D(filters=1, kernel_size=1, strides=1, padding=pad)(econv3a)\n",
        "econv4a = Activation('sigmoid')(econv4)\n",
        "\n",
        "eoutput = Flatten()(econv4a)# Eve's attempt at code guessing\n",
        "\n",
        "eve = Model(einput, eoutput, name='eve')\n",
        "eve.summary()"
      ],
      "execution_count": null,
      "outputs": []
    },
    {
      "cell_type": "code",
      "metadata": {
        "id": "PH5SdUhvPQmc",
        "colab_type": "code",
        "colab": {}
      },
      "source": [
        "alice.compile(loss='mse', optimizer='sgd')\n",
        "bob.compile(loss='mse', optimizer='sgd')\n",
        "eve.compile(loss='mse', optimizer='sgd')"
      ],
      "execution_count": null,
      "outputs": []
    },
    {
      "cell_type": "code",
      "metadata": {
        "id": "YSa2WZo8PQmg",
        "colab_type": "code",
        "colab": {}
      },
      "source": [
        "# Establish the communication channels by linking inputs to outputs\n",
        "#\n",
        "aliceout = alice([ainput0, ainput1])\n",
        "bobout = bob( [aliceout, binput1] )# bob sees ciphertext AND key\n",
        "eveout = eve( aliceout )# eve doesn't see the key, only the cipher\n",
        "\n",
        "# Loss for Eve is just L1 distance between ainput0 and eoutput. The sum\n",
        "# is taken over all the bits in the message. The quantity inside the K.mean()\n",
        "# is per-example loss. We take the average across the entire mini-batch\n",
        "#\n",
        "eveloss = K.mean(  K.sum(K.abs(ainput0 - eveout), axis=-1)  )\n",
        "\n",
        "# Loss for Alice-Bob communication depends on Bob's reconstruction, but\n",
        "# also on Eve's ability to decrypt the message. Eve should do no better\n",
        "# than random guessing, so on average she will guess half the bits right.\n",
        "#\n",
        "bobloss = K.mean(  K.sum(K.abs(ainput0 - bobout), axis=-1)  )\n",
        "abeloss = bobloss + K.square(m_bits/2 - eveloss)/( (m_bits//2)**2 )\n",
        "\n",
        "# Optimizer and compilation\n",
        "#\n",
        "abeoptim = RMSprop(lr=0.001)\n",
        "eveoptim = RMSprop(lr=0.001) #default 0.001\n",
        "\n",
        "\n",
        "# Build and compile the ABE model, used for training Alice-Bob networks\n",
        "#\n",
        "abemodel = Model([ainput0, ainput1, binput1], bobout, name='abemodel')\n",
        "abemodel.add_loss(abeloss)\n",
        "abemodel.compile(optimizer=abeoptim)\n",
        "\n",
        "\n",
        "# Build and compile the EVE model, used for training Eve net (with Alice frozen)\n",
        "#\n",
        "alice.trainable = False\n",
        "evemodel = Model([ainput0, ainput1], eveout, name='evemodel')\n",
        "evemodel.add_loss(eveloss)\n",
        "evemodel.compile(optimizer=eveoptim)"
      ],
      "execution_count": null,
      "outputs": []
    },
    {
      "cell_type": "code",
      "metadata": {
        "id": "hoXNRndoPQmk",
        "colab_type": "code",
        "colab": {}
      },
      "source": [
        "abelosses = []\n",
        "boblosses = []\n",
        "evelosses = []"
      ],
      "execution_count": null,
      "outputs": []
    },
    {
      "cell_type": "code",
      "metadata": {
        "id": "daWN5MaqPQmp",
        "colab_type": "code",
        "colab": {}
      },
      "source": [
        ""
      ],
      "execution_count": null,
      "outputs": []
    },
    {
      "cell_type": "markdown",
      "metadata": {
        "id": "7O4ZfHsdPQmv",
        "colab_type": "text"
      },
      "source": [
        "### Encoding distribution"
      ]
    },
    {
      "cell_type": "code",
      "metadata": {
        "ExecuteTime": {
          "end_time": "2018-09-05T15:55:22.510714Z",
          "start_time": "2018-09-05T15:55:20.514083Z"
        },
        "scrolled": true,
        "id": "exZYrum7PQmw",
        "colab_type": "code",
        "colab": {}
      },
      "source": [
        "X_encoded = encoder.predict(X_train, verbose=True)\n",
        "print(X_encoded.shape)"
      ],
      "execution_count": null,
      "outputs": []
    },
    {
      "cell_type": "markdown",
      "metadata": {
        "id": "9OiXlHUuPQmz",
        "colab_type": "text"
      },
      "source": [
        "Let's plot a few of the encoded vectors' coodinates:"
      ]
    },
    {
      "cell_type": "code",
      "metadata": {
        "ExecuteTime": {
          "end_time": "2018-10-24T17:53:31.379159Z",
          "start_time": "2018-10-24T17:53:29.209520Z"
        },
        "id": "nRk6jbZBPQm0",
        "colab_type": "code",
        "colab": {}
      },
      "source": [
        "n_examples = 10000\n",
        "showAll = True\n",
        "\n",
        "coord_indeces = np.array([\n",
        "    [ 0, 1, 2, 4],\n",
        "    [ 5, 6, 7, 14]\n",
        "])\n",
        "\n",
        "m_batch = np.random.randint(0, 2, m_bits * n_examples).reshape(n_examples, m_bits)\n",
        "k_batch = np.random.randint(0, 2, m_bits * n_examples).reshape(n_examples, m_bits)\n",
        "m_enc = alice.predict([m_batch, k_batch])\n",
        "\n",
        "if showAll:\n",
        "    n_cols = 4\n",
        "    n_rows = m_enc.shape[1] // n_cols\n",
        "else:\n",
        "    n_cols = coord_indeces.shape[1]\n",
        "    n_rows = coord_indeces.shape[0]\n",
        "\n",
        "plt.figure(figsize=(8, int(8.0/n_cols * n_rows)))\n",
        "for row in range(n_rows):\n",
        "    for col in range(n_cols):\n",
        "        i = row * n_cols + col\n",
        "        plt.subplot(n_rows, n_cols, i + 1)\n",
        "        if showAll:\n",
        "            plt.title(\"Coord \" + str(i), fontsize=14)\n",
        "            plt.hist(m_enc[:, i], bins=20, density=True)\n",
        "        else:\n",
        "            plt.title(\"Coord \" + str(coord_indeces[row, col]), fontsize=12)\n",
        "            plt.hist(m_enc[:, coord_indeces[row, col]], bins=20, density=True)\n",
        "plt.tight_layout()\n",
        "#plt.savefig(\"images/\" + model_name + \"-encall.png\", transparent=True) #dpi=100\n",
        "plt.show()"
      ],
      "execution_count": null,
      "outputs": []
    },
    {
      "cell_type": "code",
      "metadata": {
        "ExecuteTime": {
          "end_time": "2018-10-24T18:05:10.010121Z",
          "start_time": "2018-10-24T18:05:09.958705Z"
        },
        "id": "NSQ3kGEIPQm6",
        "colab_type": "code",
        "colab": {}
      },
      "source": [
        "# Let's examine various correlations, if any\n",
        "data_arr = np.c_[m_batch, k_batch, m_enc]\n",
        "\n",
        "columns = [\n",
        "    'm0', 'm1', 'm2', 'm3', 'm4', 'm5', 'm6', 'm7', 'm8', 'm9', 'm10', 'm11', 'm12', 'm13', 'm14', 'm15', \n",
        "    'k0', 'k1', 'k2', 'k3', 'k4', 'k5', 'k6', 'k7', 'k8', 'k9', 'k10', 'k11', 'k12', 'k13', 'k14', 'k15', \n",
        "    'c0', 'c1', 'c2', 'c3', 'c4', 'c5', 'c6', 'c7', 'c8', 'c9', 'c10', 'c11', 'c12', 'c13', 'c14', 'c15', \n",
        "]\n",
        "\n",
        "data = pd.DataFrame(data=data_arr, index=range(10000), columns=columns)\n",
        "data.head()"
      ],
      "execution_count": null,
      "outputs": []
    },
    {
      "cell_type": "code",
      "metadata": {
        "ExecuteTime": {
          "end_time": "2018-10-24T18:10:52.366126Z",
          "start_time": "2018-10-24T18:10:52.346180Z"
        },
        "id": "HASSbWvQPQm_",
        "colab_type": "code",
        "colab": {}
      },
      "source": [
        "datac = data[['c0', 'c1', 'c2', 'c3', 'c4', 'c5', 'c6', 'c7', 'c8', 'c9', 'c10', 'c11', 'c12', 'c13', 'c14', 'c15']]\n",
        "datac.head()"
      ],
      "execution_count": null,
      "outputs": []
    },
    {
      "cell_type": "code",
      "metadata": {
        "ExecuteTime": {
          "end_time": "2018-10-24T18:11:00.899268Z",
          "start_time": "2018-10-24T18:11:00.692779Z"
        },
        "id": "Avu-DX_mPQnD",
        "colab_type": "code",
        "colab": {}
      },
      "source": [
        "corr = data.corr()\n",
        "corrc = datac.corr()"
      ],
      "execution_count": null,
      "outputs": []
    },
    {
      "cell_type": "code",
      "metadata": {
        "ExecuteTime": {
          "end_time": "2018-10-24T18:36:14.793195Z",
          "start_time": "2018-10-24T18:36:14.784219Z"
        },
        "id": "qy2J1K2OPQnH",
        "colab_type": "code",
        "colab": {}
      },
      "source": [
        "corrc['c2'].sort_values(ascending=False)"
      ],
      "execution_count": null,
      "outputs": []
    },
    {
      "cell_type": "code",
      "metadata": {
        "ExecuteTime": {
          "end_time": "2018-10-24T18:20:59.447103Z",
          "start_time": "2018-10-24T18:20:02.684246Z"
        },
        "id": "emDgLDaiPQnM",
        "colab_type": "code",
        "colab": {}
      },
      "source": [
        "pd.plotting.scatter_matrix(datac, alpha=0.2, figsize=(12,12))\n",
        "plt.show()"
      ],
      "execution_count": null,
      "outputs": []
    },
    {
      "cell_type": "markdown",
      "metadata": {
        "id": "UxNNNS_rPQnR",
        "colab_type": "text"
      },
      "source": [
        "## Model `crypto2`\n",
        "\n",
        "Add dense, and allow tanh for codings."
      ]
    },
    {
      "cell_type": "code",
      "metadata": {
        "ExecuteTime": {
          "end_time": "2018-10-23T16:25:37.704041Z",
          "start_time": "2018-10-23T16:25:37.698057Z"
        },
        "id": "3He_8yuQPQnR",
        "colab_type": "code",
        "colab": {}
      },
      "source": [
        "K.floatx()"
      ],
      "execution_count": null,
      "outputs": []
    },
    {
      "cell_type": "code",
      "metadata": {
        "ExecuteTime": {
          "end_time": "2018-10-24T18:44:22.648870Z",
          "start_time": "2018-10-24T18:44:22.644879Z"
        },
        "id": "C9Mjsu2CPQnX",
        "colab_type": "code",
        "colab": {}
      },
      "source": [
        "model_name = 'crypto2'\n",
        "\n",
        "# Set up the crypto parameters: message, key, and ciphertext bit lengths\n",
        "m_bits = 8\n",
        "k_bits = 8\n",
        "c_bits = 8\n",
        "pad = 'same'\n",
        "\n",
        "# Compute the size of the message space\n",
        "m_train = 2**(m_bits + k_bits)\n",
        "\n",
        "alice_file = 'models/crypto/' + model_name + '-alice'\n",
        "bob_file = 'models/crypto/' + model_name + '-bob'\n",
        "eve_file = 'models/crypto/' + model_name + '-eve'"
      ],
      "execution_count": null,
      "outputs": []
    },
    {
      "cell_type": "markdown",
      "metadata": {
        "id": "VHsrqhcePQnb",
        "colab_type": "text"
      },
      "source": [
        "### Network arch"
      ]
    },
    {
      "cell_type": "code",
      "metadata": {
        "ExecuteTime": {
          "end_time": "2018-10-24T18:44:24.683326Z",
          "start_time": "2018-10-24T18:44:24.236485Z"
        },
        "id": "1pDXlO2rPQnc",
        "colab_type": "code",
        "colab": {}
      },
      "source": [
        "K.clear_session()\n",
        "kersize = 4\n",
        "\n",
        "##### Alice network #####\n",
        "#\n",
        "ainput0 = Input(shape=(m_bits,)) #message\n",
        "ainput1 = Input(shape=(k_bits,)) #key\n",
        "ainput = concatenate([ainput0, ainput1], axis=1)\n",
        "\n",
        "adense1 = Dense(units=(m_bits + k_bits))(ainput)\n",
        "adense1a = Activation('tanh')(adense1)\n",
        "\n",
        "areshape = Reshape((m_bits + k_bits, 1,))(adense1a)\n",
        "\n",
        "aconv1 = Conv1D(filters=4, kernel_size=kersize, strides=1, padding=pad)(areshape)\n",
        "aconv1a = Activation('tanh')(aconv1)\n",
        "aconv2 = Conv1D(filters=4, kernel_size=kersize, strides=1, padding=pad)(aconv1a)\n",
        "aconv2a = Activation('tanh')(aconv2)\n",
        "aconv3 = Conv1D(filters=4, kernel_size=kersize, strides=1, padding=pad)(aconv2a)\n",
        "aconv3a = Activation('tanh')(aconv3)\n",
        "aconv4 = Conv1D(filters=4, kernel_size=kersize, strides=1, padding=pad)(aconv3a)\n",
        "aconv4a = Activation('tanh')(aconv4)\n",
        "\n",
        "aflat = Flatten()(aconv4a)\n",
        "aoutput = Dense(units=c_bits, activation='tanh')(aflat) #ciphertext\n",
        "\n",
        "alice = Model([ainput0, ainput1], aoutput, name='alice')\n",
        "#alice.summary()\n",
        "\n",
        "\n",
        "##### Bob network #####\n",
        "#\n",
        "binput0 = Input(shape=(c_bits,)) #ciphertext\n",
        "binput1 = Input(shape=(k_bits,)) #key\n",
        "binput = concatenate([binput0, binput1], axis=1)\n",
        "\n",
        "bdense1 = Dense(units=(c_bits + k_bits))(binput)\n",
        "bdense1a = Activation('tanh')(bdense1)\n",
        "\n",
        "breshape = Reshape((c_bits + k_bits, 1,))(bdense1a)\n",
        "\n",
        "bconv1 = Conv1D(filters=4, kernel_size=kersize, strides=1, padding=pad)(breshape)\n",
        "bconv1a = Activation('tanh')(bconv1)\n",
        "bconv2 = Conv1D(filters=4, kernel_size=kersize, strides=1, padding=pad)(bconv1a)\n",
        "bconv2a = Activation('tanh')(bconv2)\n",
        "bconv3 = Conv1D(filters=4, kernel_size=kersize, strides=1, padding=pad)(bconv2a)\n",
        "bconv3a = Activation('tanh')(bconv3)\n",
        "bconv4 = Conv1D(filters=4, kernel_size=kersize, strides=1, padding=pad)(bconv3a)\n",
        "bconv4a = Activation('tanh')(bconv4)\n",
        "\n",
        "bflat = Flatten()(bconv4a)\n",
        "boutput = Dense(units=m_bits, activation='sigmoid')(bflat) #decrypted message\n",
        "\n",
        "bob = Model([binput0, binput1], boutput, name='bob')\n",
        "#bob.summary()\n",
        "\n",
        "\n",
        "# Eve network\n",
        "#\n",
        "einput = Input(shape=(c_bits,)) #ciphertext only\n",
        "\n",
        "edense1 = Dense(units=(c_bits + k_bits))(einput)\n",
        "edense1a = Activation('tanh')(edense1)\n",
        "edense2 = Dense(units=(m_bits + k_bits))(edense1a)\n",
        "edense2a = Activation('tanh')(edense2)\n",
        "\n",
        "ereshape = Reshape((m_bits + k_bits, 1,))(edense2a)\n",
        "\n",
        "econv1 = Conv1D(filters=4, kernel_size=kersize, strides=1, padding=pad)(ereshape)\n",
        "econv1a = Activation('tanh')(econv1)\n",
        "econv2 = Conv1D(filters=4, kernel_size=kersize, strides=1, padding=pad)(econv1a)\n",
        "econv2a = Activation('tanh')(econv2)\n",
        "econv3 = Conv1D(filters=4, kernel_size=kersize, strides=1, padding=pad)(econv2a)\n",
        "econv3a = Activation('tanh')(econv3)\n",
        "econv4 = Conv1D(filters=4, kernel_size=kersize, strides=1, padding=pad)(econv3a)\n",
        "econv4a = Activation('tanh')(econv4)\n",
        "\n",
        "eflat = Flatten()(econv4a)\n",
        "eoutput = Dense(units=m_bits, activation='sigmoid')(eflat) #code break attempt\n",
        "\n",
        "eve = Model(einput, eoutput, name='eve')\n",
        "#eve.summary()"
      ],
      "execution_count": null,
      "outputs": []
    },
    {
      "cell_type": "code",
      "metadata": {
        "ExecuteTime": {
          "end_time": "2018-10-24T18:44:24.906344Z",
          "start_time": "2018-10-24T18:44:24.814537Z"
        },
        "id": "EOnE2WN7PQnh",
        "colab_type": "code",
        "colab": {}
      },
      "source": [
        "alice.compile(loss='mse', optimizer='sgd')\n",
        "bob.compile(loss='mse', optimizer='sgd')\n",
        "eve.compile(loss='mse', optimizer='sgd')"
      ],
      "execution_count": null,
      "outputs": []
    },
    {
      "cell_type": "code",
      "metadata": {
        "ExecuteTime": {
          "end_time": "2018-10-24T18:44:25.141788Z",
          "start_time": "2018-10-24T18:44:25.137953Z"
        },
        "id": "ZFR_aHKzPQnm",
        "colab_type": "code",
        "colab": {}
      },
      "source": [
        "if False:\n",
        "    alice.summary()\n",
        "    bob.summary()\n",
        "    eve.summary()"
      ],
      "execution_count": null,
      "outputs": []
    },
    {
      "cell_type": "markdown",
      "metadata": {
        "id": "IvkcLLBPPQnr",
        "colab_type": "text"
      },
      "source": [
        "### Loss + Optimizer"
      ]
    },
    {
      "cell_type": "code",
      "metadata": {
        "ExecuteTime": {
          "end_time": "2018-10-24T18:44:29.268119Z",
          "start_time": "2018-10-24T18:44:28.613773Z"
        },
        "id": "wVCL9D1mPQns",
        "colab_type": "code",
        "colab": {}
      },
      "source": [
        "# Establish the communication channels by linking inputs to outputs\n",
        "#\n",
        "aliceout = alice([ainput0, ainput1])\n",
        "bobout = bob( [aliceout, binput1] )# bob sees ciphertext AND key\n",
        "eveout = eve( aliceout )# eve doesn't see the key, only the cipher\n",
        "\n",
        "# Loss for Eve is just L1 distance between ainput0 and eoutput. The sum\n",
        "# is taken over all the bits in the message. The quantity inside the K.mean()\n",
        "# is per-example loss. We take the average across the entire mini-batch\n",
        "#\n",
        "eveloss = K.mean(  K.sum(K.abs(ainput0 - eveout), axis=-1)  )\n",
        "\n",
        "# Loss for Alice-Bob communication depends on Bob's reconstruction, but\n",
        "# also on Eve's ability to decrypt the message. Eve should do no better\n",
        "# than random guessing, so on average she will guess half the bits right.\n",
        "#\n",
        "bobloss = K.mean(  K.sum(K.abs(ainput0 - bobout), axis=-1)  )\n",
        "abeloss = bobloss + K.square(m_bits/2 - eveloss)/( (m_bits//2)**2 )\n",
        "\n",
        "# Optimizer and compilation\n",
        "#\n",
        "abeoptim = Adam()#RMSprop(lr=0.0015)\n",
        "eveoptim = Adam()#RMSprop(lr=0.0015) #default 0.001\n",
        "\n",
        "\n",
        "# Build and compile the ABE model, used for training Alice-Bob networks\n",
        "#\n",
        "abemodel = Model([ainput0, ainput1, binput1], bobout, name='abemodel')\n",
        "abemodel.add_loss(abeloss)\n",
        "abemodel.compile(optimizer=abeoptim)\n",
        "\n",
        "\n",
        "# Build and compile the EVE model, used for training Eve net (with Alice frozen)\n",
        "#\n",
        "alice.trainable = False\n",
        "evemodel = Model([ainput0, ainput1], eveout, name='evemodel')\n",
        "evemodel.add_loss(eveloss)\n",
        "evemodel.compile(optimizer=eveoptim)"
      ],
      "execution_count": null,
      "outputs": []
    },
    {
      "cell_type": "markdown",
      "metadata": {
        "id": "DbYQkGmTPQnx",
        "colab_type": "text"
      },
      "source": [
        "### Train / save / restore"
      ]
    },
    {
      "cell_type": "code",
      "metadata": {
        "ExecuteTime": {
          "end_time": "2018-10-22T18:02:18.278616Z",
          "start_time": "2018-10-22T18:02:18.274601Z"
        },
        "id": "SBki9jjMPQny",
        "colab_type": "code",
        "colab": {}
      },
      "source": [
        "# Keep track of loss at every iteration for the final graph\n",
        "abelosses = []\n",
        "boblosses = []\n",
        "evelosses = []"
      ],
      "execution_count": null,
      "outputs": []
    },
    {
      "cell_type": "code",
      "metadata": {
        "ExecuteTime": {
          "end_time": "2018-10-22T18:07:39.372441Z",
          "start_time": "2018-10-22T18:02:18.642313Z"
        },
        "scrolled": true,
        "id": "d5xRoDd0PQn2",
        "colab_type": "code",
        "colab": {}
      },
      "source": [
        "n_epochs = 30\n",
        "batch_size = 256\n",
        "n_batches = m_train // batch_size\n",
        "\n",
        "abecycles = 1\n",
        "evecycles = 2\n",
        "\n",
        "epoch = 0\n",
        "print(\"Training for\", n_epochs, \"epochs with\", n_batches, \"batches of size\", batch_size)\n",
        "\n",
        "while epoch < n_epochs:\n",
        "    abelosses0 = [] #epoch-bound losses for text display during training\n",
        "    boblosses0 = []\n",
        "    evelosses0 = []\n",
        "    for iteration in range(n_batches):\n",
        "        \n",
        "        # Train the A-B+E network\n",
        "        #\n",
        "        alice.trainable = True\n",
        "        for cycle in range(abecycles):\n",
        "            # Select a random batch of messages, and a random batch of keys\n",
        "            #\n",
        "            m_batch = np.random.randint(0, 2, m_bits * batch_size).reshape(batch_size, m_bits)\n",
        "            k_batch = np.random.randint(0, 2, k_bits * batch_size).reshape(batch_size, k_bits)\n",
        "            loss = abemodel.train_on_batch([m_batch, k_batch, k_batch], None)\n",
        "        \n",
        "        abelosses0.append(loss)\n",
        "        abelosses.append(loss)\n",
        "        abeavg = np.mean(abelosses0)\n",
        "            \n",
        "        # Evaluate Bob's ability to decrypt a message\n",
        "        m_enc = alice.predict([m_batch, k_batch])\n",
        "        m_dec = bob.predict([m_enc, k_batch])\n",
        "        loss = np.mean(  np.sum( np.abs(m_batch - m_dec), axis=-1)  )\n",
        "        boblosses0.append(loss)\n",
        "        boblosses.append(loss)\n",
        "        bobavg = np.mean(boblosses0)\n",
        "        \n",
        "        # Train the EVE network\n",
        "        #\n",
        "        alice.trainable = False\n",
        "        for cycle in range(evecycles):\n",
        "            m_batch = np.random.randint(0, 2, m_bits * batch_size).reshape(batch_size, m_bits)\n",
        "            k_batch = np.random.randint(0, 2, k_bits * batch_size).reshape(batch_size, k_bits)\n",
        "            loss = evemodel.train_on_batch([m_batch, k_batch], None)\n",
        "        \n",
        "        evelosses0.append(loss)\n",
        "        evelosses.append(loss)\n",
        "        eveavg = np.mean(evelosses0)\n",
        "        \n",
        "        if iteration % max(1, (n_batches // 100)) == 0:\n",
        "            print(\"\\rEpoch {:3}: {:3}% | abe: {:2.3f} | eve: {:2.3f} | bob: {:2.3f}\".format(\n",
        "                epoch, 100 * iteration // n_batches, abeavg, eveavg, bobavg), end=\"\")\n",
        "            sys.stdout.flush()\n",
        "    \n",
        "    print()\n",
        "    epoch += 1\n",
        "    \n",
        "print('Training finished.')"
      ],
      "execution_count": null,
      "outputs": []
    },
    {
      "cell_type": "code",
      "metadata": {
        "ExecuteTime": {
          "end_time": "2018-10-22T18:21:22.283022Z",
          "start_time": "2018-10-22T18:21:22.051641Z"
        },
        "id": "5ym18thXPQn7",
        "colab_type": "code",
        "colab": {}
      },
      "source": [
        "steps = -1\n",
        "\n",
        "plt.figure(figsize=(7, 4))\n",
        "plt.plot(abelosses[:steps], label='A-B', alpha=0.99)\n",
        "plt.plot(evelosses[:steps], label='Eve', alpha=0.99)\n",
        "plt.plot(boblosses[:steps], label='Bob', alpha=0.99)\n",
        "plt.xlabel(\"Iterations\", fontsize=13)\n",
        "plt.ylabel(\"Loss\", fontsize=13)\n",
        "plt.legend(fontsize=13, loc='upper right')\n",
        "\n",
        "#plt.savefig(\"images/\" + model_name + \"-all.png\", transparent=True) #dpi=100\n",
        "plt.show()"
      ],
      "execution_count": null,
      "outputs": []
    },
    {
      "cell_type": "code",
      "metadata": {
        "ExecuteTime": {
          "end_time": "2018-10-22T18:21:34.181962Z",
          "start_time": "2018-10-22T18:21:33.878104Z"
        },
        "id": "asALtYlzPQoC",
        "colab_type": "code",
        "colab": {}
      },
      "source": [
        "alice.save(alice_file + '.h5', overwrite=True)\n",
        "bob.save(bob_file + '.h5', overwrite=True)\n",
        "eve.save(eve_file + '.h5', overwrite=True)"
      ],
      "execution_count": null,
      "outputs": []
    },
    {
      "cell_type": "code",
      "metadata": {
        "ExecuteTime": {
          "end_time": "2018-10-24T18:44:45.640423Z",
          "start_time": "2018-10-24T18:44:43.968780Z"
        },
        "id": "TXV-z00UPQoF",
        "colab_type": "code",
        "colab": {}
      },
      "source": [
        "alice = load_model(alice_file + '.h5')\n",
        "bob = load_model(bob_file + '.h5')\n",
        "eve = load_model(eve_file + '.h5')"
      ],
      "execution_count": null,
      "outputs": []
    },
    {
      "cell_type": "markdown",
      "metadata": {
        "id": "FUKbFvtcPQoJ",
        "colab_type": "text"
      },
      "source": [
        "### Evaluate"
      ]
    },
    {
      "cell_type": "code",
      "metadata": {
        "ExecuteTime": {
          "end_time": "2018-10-24T18:44:50.203896Z",
          "start_time": "2018-10-24T18:44:48.270065Z"
        },
        "id": "NPRU2WZcPQoK",
        "colab_type": "code",
        "colab": {}
      },
      "source": [
        "n_examples = 10000\n",
        "\n",
        "m_batch = np.random.randint(0, 2, m_bits * n_examples).reshape(n_examples, m_bits)\n",
        "k_batch = np.random.randint(0, 2, m_bits * n_examples).reshape(n_examples, m_bits)\n",
        "\n",
        "m_enc = alice.predict([m_batch, k_batch])\n",
        "#m_enc = np.round(m_enc, 3)\n",
        "m_dec = (bob.predict([m_enc, k_batch]) > 0.5).astype(int)\n",
        "m_att = (eve.predict(m_enc) > 0.5).astype(int)\n",
        "\n",
        "bdiff = np.abs(m_batch - m_dec)\n",
        "bsum = np.sum(bdiff, axis=-1)\n",
        "ediff = np.abs(m_batch - m_att)\n",
        "esum = np.sum(ediff, axis=-1)\n",
        "\n",
        "print(\"Bob % correct: \", 100.0*np.sum(bsum == 0) / n_examples, '%')\n",
        "print(\"Eve % correct: \", 100.0*np.sum(esum == 0) / n_examples, '%')"
      ],
      "execution_count": null,
      "outputs": []
    },
    {
      "cell_type": "markdown",
      "metadata": {
        "id": "dW_mCFBoPQoP",
        "colab_type": "text"
      },
      "source": [
        "# Model 3"
      ]
    },
    {
      "cell_type": "markdown",
      "metadata": {
        "ExecuteTime": {
          "end_time": "2018-10-24T01:34:55.867773Z",
          "start_time": "2018-10-24T01:34:55.863813Z"
        },
        "id": "oOIhs1eTPQoR",
        "colab_type": "text"
      },
      "source": [
        "# Asymmetric (public-key) encryption"
      ]
    },
    {
      "cell_type": "markdown",
      "metadata": {
        "id": "Vfo7jij_PQoS",
        "colab_type": "text"
      },
      "source": [
        "## Model crypto3 (Google)"
      ]
    },
    {
      "cell_type": "code",
      "metadata": {
        "ExecuteTime": {
          "end_time": "2018-10-24T09:29:24.324720Z",
          "start_time": "2018-10-24T09:29:24.320759Z"
        },
        "id": "gyvIf-3XPQoT",
        "colab_type": "code",
        "colab": {}
      },
      "source": [
        "# Coming soon"
      ],
      "execution_count": null,
      "outputs": []
    },
    {
      "cell_type": "markdown",
      "metadata": {
        "id": "d300XrG8PQoY",
        "colab_type": "text"
      },
      "source": [
        "# AI-based encryption (POC)\n",
        "\n",
        "Let's take model `crypto2`, for which Bob was incredibly accurate while Eve failed to decrypt the messages.\n",
        "\n",
        "We construct a full encryption, with 32-bit float ciphertexts (vector of dim 8), so each character will encode to 32 * 8 = 256 bits\n",
        "\n",
        "**Encryption Algorithm:**\n",
        "* Convert character string to binary\n",
        "* Pad the binary char encoding string wtih 3 random bits to get a block of 8 bits per character\n",
        "* Pass 8-bit blocks of the string through the encryption network Bob\n",
        "* The output is 8-dim vectors of type `float32`, for a total of $8 \\cdot 32 = 256$ bits per character\n",
        "* Convert the output to a binary string by concatenating the binary representation of each component the 8-dim float vector. **This is the encoding**\n",
        "\n",
        "One could convert this to a character string to see what the messasge might look like. Each character will be a block of 5 (remove 3 bits for padding).\n",
        "\n",
        "The decryption algorithm is the reverse of the above."
      ]
    },
    {
      "cell_type": "code",
      "metadata": {
        "ExecuteTime": {
          "end_time": "2018-10-24T19:00:10.570167Z",
          "start_time": "2018-10-24T19:00:08.879925Z"
        },
        "id": "uCchnmrqPQoZ",
        "colab_type": "code",
        "colab": {}
      },
      "source": [
        "alice = load_model('models/crypto/crypto2-alice.h5')\n",
        "bob = load_model('models/crypto/crypto2-bob.h5')\n",
        "eve = load_model('models/crypto/crypto2-eve.h5')"
      ],
      "execution_count": null,
      "outputs": []
    },
    {
      "cell_type": "markdown",
      "metadata": {
        "id": "xN6dVJrWPQoe",
        "colab_type": "text"
      },
      "source": [
        "## Char map and str functions"
      ]
    },
    {
      "cell_type": "code",
      "metadata": {
        "ExecuteTime": {
          "end_time": "2018-10-24T19:00:12.822185Z",
          "start_time": "2018-10-24T19:00:12.811252Z"
        },
        "id": "7X6dvcGWPQof",
        "colab_type": "code",
        "colab": {}
      },
      "source": [
        "block_size_unpadded = 5\n",
        "block_padding = 3\n",
        "block_size = block_size_unpadded + block_padding\n",
        "\n",
        "chrlist = [\n",
        "    'a', 'b', 'c', 'd', 'e', 'f', 'g', 'h', 'i', 'j',\n",
        "    'k', 'l', 'm', 'n', 'o', 'p', 'q', 'r', 's', 't',\n",
        "    'u', 'v', 'w', 'x', 'y', 'z', '.', ',', '!', '?',\n",
        "    ':', ' '\n",
        "]\n",
        "binlist = [\n",
        "    '00000', '00001', '00010', '00011', '00100', \n",
        "    '00101', '00110', '00111', '01000', '01001',\n",
        "    '01010', '01011', '01100', '01101', '01110', \n",
        "    '01111', '10000', '10001', '10010', '10011',\n",
        "    '10100', '10101', '10110', '10111', '11000',\n",
        "    '11001', '11010', '11011', '11100', '11101', \n",
        "    '11110', '11111'\n",
        "]\n",
        "\n",
        "def randombits(n):\n",
        "    if n == 0:\n",
        "        return ''\n",
        "    decvalue = np.random.randint(0, 2**n)\n",
        "    formatstring = '0' + str(n) + 'b'\n",
        "    return format(decvalue, formatstring)\n",
        "\n",
        "def encstr(message, block_padding=0):\n",
        "    cipher = \"\"\n",
        "    for c in message:\n",
        "        binstr = binlist[chrlist.index(c)]\n",
        "        binstrpadded = randombits(block_padding) + str(binstr)\n",
        "        cipher = cipher + binstrpadded\n",
        "    return cipher, len(message)\n",
        "\n",
        "def decstr(cipher, n, block_padding=0):\n",
        "    message = \"\"\n",
        "    cipherlength = len(cipher)\n",
        "    block_size = cipherlength // n\n",
        "    for i in range(n):\n",
        "        blockpadded = cipher[block_size*i : block_size*i + block_size]\n",
        "        blockunpadded = blockpadded[block_padding:]\n",
        "        character = chrlist[binlist.index(blockunpadded)]\n",
        "        message = message + character\n",
        "    return message"
      ],
      "execution_count": null,
      "outputs": []
    },
    {
      "cell_type": "code",
      "metadata": {
        "ExecuteTime": {
          "end_time": "2018-10-24T19:03:18.597023Z",
          "start_time": "2018-10-24T19:03:18.593048Z"
        },
        "id": "J8p2euLRPQoj",
        "colab_type": "code",
        "colab": {}
      },
      "source": [
        "print(encstr('adi', 3))\n",
        "print(decstr('00010011010001001001001001010011', 4, block_padding=3))"
      ],
      "execution_count": null,
      "outputs": []
    },
    {
      "cell_type": "code",
      "metadata": {
        "ExecuteTime": {
          "end_time": "2018-10-24T19:00:16.375072Z",
          "start_time": "2018-10-24T19:00:16.369288Z"
        },
        "id": "TNd9uKLhPQoo",
        "colab_type": "code",
        "colab": {}
      },
      "source": [
        "# Function for converting float to 32-bit binary string\n",
        "def float_to_binary(value):\n",
        "    binNum = bin(  ctypes.c_uint.from_buffer(ctypes.c_float(value)).value  )[2:]\n",
        "    binstr = binNum.rjust(32,\"0\")\n",
        "    return binstr\n",
        "\n",
        "def binary_to_float(binstr):\n",
        "    intvalue = int(binstr, 2)\n",
        "    floatvalue = ctypes.c_float.from_buffer(ctypes.c_uint(intvalue))\n",
        "    return floatvalue.value\n",
        "\n",
        "# Convert a positive integer num into a bit vector of 'bits' size\n",
        "def bitarray(num, bits):\n",
        "    return np.array(list(np.binary_repr(num).zfill(bits))).astype(np.int8)"
      ],
      "execution_count": null,
      "outputs": []
    },
    {
      "cell_type": "code",
      "metadata": {
        "ExecuteTime": {
          "end_time": "2018-10-24T19:23:00.850494Z",
          "start_time": "2018-10-24T19:23:00.577196Z"
        },
        "id": "YwlGBElqPQov",
        "colab_type": "code",
        "colab": {}
      },
      "source": [
        "key = np.array([[0,0,0,0,0,0,0,0]])\n",
        "m = 'adi'\n",
        "\n",
        "m_bin, _ = encstr(m, block_padding=3)\n",
        "m_bin_len = len(m_bin)\n",
        "print(m_bin, m_bin_len)\n",
        "\n",
        "ciphertext = \"\"\n",
        "for i in range(m_bin_len // m_bits):\n",
        "    # read blocks of size m_bits\n",
        "    binblockstr = m_bin[m_bits*i : m_bits*i + m_bits]\n",
        "    binblock = np.array(list(binblockstr)).astype(np.int8).reshape(1, m_bits)\n",
        "    \n",
        "    floatVector = alice.predict([binblock, key])\n",
        "    #print(np.round(floatVector,3))\n",
        "    \n",
        "    # convert each coordinate of the cipher (float) vector to binary\n",
        "    # and construct the binary ciphertext\n",
        "    for j in range(c_bits):\n",
        "        ciphertext = ciphertext + float_to_binary(floatVector[0][j])\n",
        "        #print(float_to_binary(floatVector[0][j]))\n",
        "\n",
        "#print(ciphertext, len(ciphertext)) # ciphertext in binary\n",
        "print(decstr(ciphertext, n=(len(ciphertext)//8), block_padding=3)) #ciphertext as characters\n",
        "\n",
        "ciphertext_len = len(ciphertext)\n",
        "plaintextbin = \"\"\n",
        "for i in range(ciphertext_len // (c_bits*32)):\n",
        "    # read the ciphertext in chunks of 32*c_bits bits, i.e one encoding at a time\n",
        "    floatVectorbin = ciphertext[c_bits*32*i : c_bits*32*i + c_bits*32]\n",
        "    #print(floatVectorbin)\n",
        "    # convert the binary chunk to an 8-dim float vector (input for AI Bob)\n",
        "    floatVector = np.zeros(c_bits, dtype=np.float32).reshape(1, c_bits)\n",
        "    for j in range(len(floatVectorbin) // 32):\n",
        "        floatValuebin = floatVectorbin[32*j : 32*j + 32]\n",
        "        #print(floatValuebin)\n",
        "        floatValue = binary_to_float(floatValuebin)\n",
        "        floatVector[0][j] = floatValue\n",
        "    #print(np.round(floatVector,3))\n",
        "    \n",
        "    charbinvector = list( (bob.predict([floatVector, key]) > 0.5)[0].astype(int) )\n",
        "    for j in range(len(charbinvector)):\n",
        "        plaintextbin = plaintextbin + str(charbinvector[j])\n",
        "\n",
        "print(plaintextbin)\n",
        "\n",
        "m_dec = \"\"\n",
        "for i in range(len(plaintextbin) // m_bits):\n",
        "    strbin = plaintextbin[m_bits*i : m_bits*i + m_bits]\n",
        "    m_dec = m_dec + decstr(strbin, len(strbin)//m_bits, block_padding=3)\n",
        "\n",
        "print(m_dec)"
      ],
      "execution_count": null,
      "outputs": []
    },
    {
      "cell_type": "code",
      "metadata": {
        "ExecuteTime": {
          "end_time": "2018-10-24T19:08:38.135699Z",
          "start_time": "2018-10-24T19:08:38.119739Z"
        },
        "id": "MCD3jyvDPQo0",
        "colab_type": "code",
        "colab": {}
      },
      "source": [
        "# How would Eve peform on the above ciphertext?\n",
        "\n",
        "plaintextbin = \"\"\n",
        "for i in range(ciphertext_len // (c_bits*32)):\n",
        "    floatVectorbin = ciphertext[c_bits*32*i : c_bits*32*i + c_bits*32]\n",
        "    floatVector = np.zeros(c_bits, dtype=np.float32).reshape(1, c_bits)\n",
        "    for j in range(len(floatVectorbin) // 32):\n",
        "        floatValuebin = floatVectorbin[32*j : 32*j + 32]\n",
        "        floatValue = binary_to_float(floatValuebin)\n",
        "        floatVector[0][j] = floatValue\n",
        "    charbinvector = (eve.predict(floatVector) > 0.5).astype(int)\n",
        "    for j in range(charbinvector.shape[1]):\n",
        "        plaintextbin = plaintextbin + str(charbinvector[0][j])\n",
        "\n",
        "print(plaintextbin)\n",
        "\n",
        "m_dec = \"\"\n",
        "for i in range(len(plaintextbin) // m_bits):\n",
        "    strbin = plaintextbin[m_bits*i : m_bits*i + m_bits]\n",
        "    m_dec = m_dec + decstr(strbin, len(strbin)//m_bits, block_padding=3)\n",
        "\n",
        "print(m_dec)"
      ],
      "execution_count": null,
      "outputs": []
    },
    {
      "cell_type": "markdown",
      "metadata": {
        "id": "UKOcyfo2PQo8",
        "colab_type": "text"
      },
      "source": [
        "# End"
      ]
    },
    {
      "cell_type": "code",
      "metadata": {
        "id": "Nzh0zUeBPQo-",
        "colab_type": "code",
        "colab": {}
      },
      "source": [
        ""
      ],
      "execution_count": null,
      "outputs": []
    }
  ]
}